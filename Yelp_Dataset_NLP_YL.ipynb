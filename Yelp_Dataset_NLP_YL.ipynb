{
 "cells": [
  {
   "cell_type": "markdown",
   "metadata": {},
   "source": [
    "# Yelp Data Challenge - NLP\n",
    "\n",
    "\n",
    "Sep 2018\n",
    "\n",
    "## data description\n",
    "### business info\n",
    "#### *business_id, *categories, *city, *name, *review_count,  *avg_stars\n",
    "\n",
    "### customer info\n",
    "#### *review_id,  *user_id, *cool, *funny, *useful, *stars, text"
   ]
  },
  {
   "cell_type": "markdown",
   "metadata": {},
   "source": [
    "## Import data"
   ]
  },
  {
   "cell_type": "code",
   "execution_count": 1,
   "metadata": {},
   "outputs": [],
   "source": [
    "import pandas as pd\n",
    "import numpy as np\n",
    "%matplotlib inline\n",
    "import matplotlib \n",
    "import matplotlib.pyplot as plt\n",
    "plt.style.use('ggplot')\n",
    "import seaborn as sns"
   ]
  },
  {
   "cell_type": "code",
   "execution_count": 2,
   "metadata": {},
   "outputs": [],
   "source": [
    "df = pd.read_csv('clean_busi_rev_joint.csv')"
   ]
  },
  {
   "cell_type": "code",
   "execution_count": 3,
   "metadata": {},
   "outputs": [
    {
     "name": "stdout",
     "output_type": "stream",
     "text": [
      "<class 'pandas.core.frame.DataFrame'>\n",
      "RangeIndex: 488769 entries, 0 to 488768\n",
      "Data columns (total 14 columns):\n",
      "business_id     488769 non-null object\n",
      "categories      488769 non-null object\n",
      "city            488769 non-null object\n",
      "name            488769 non-null object\n",
      "review_count    488769 non-null int64\n",
      "avg_stars       488769 non-null float64\n",
      "cool            488769 non-null int64\n",
      "date            488769 non-null object\n",
      "funny           488769 non-null int64\n",
      "review_id       488769 non-null object\n",
      "stars           488769 non-null int64\n",
      "text            488769 non-null object\n",
      "useful          488769 non-null int64\n",
      "user_id         488769 non-null object\n",
      "dtypes: float64(1), int64(5), object(8)\n",
      "memory usage: 52.2+ MB\n"
     ]
    }
   ],
   "source": [
    "df.info()"
   ]
  },
  {
   "cell_type": "code",
   "execution_count": 4,
   "metadata": {},
   "outputs": [
    {
     "data": {
      "text/html": [
       "<div>\n",
       "<style scoped>\n",
       "    .dataframe tbody tr th:only-of-type {\n",
       "        vertical-align: middle;\n",
       "    }\n",
       "\n",
       "    .dataframe tbody tr th {\n",
       "        vertical-align: top;\n",
       "    }\n",
       "\n",
       "    .dataframe thead th {\n",
       "        text-align: right;\n",
       "    }\n",
       "</style>\n",
       "<table border=\"1\" class=\"dataframe\">\n",
       "  <thead>\n",
       "    <tr style=\"text-align: right;\">\n",
       "      <th></th>\n",
       "      <th>business_id</th>\n",
       "      <th>categories</th>\n",
       "      <th>city</th>\n",
       "      <th>name</th>\n",
       "      <th>review_count</th>\n",
       "      <th>avg_stars</th>\n",
       "      <th>cool</th>\n",
       "      <th>date</th>\n",
       "      <th>funny</th>\n",
       "      <th>review_id</th>\n",
       "      <th>stars</th>\n",
       "      <th>text</th>\n",
       "      <th>useful</th>\n",
       "      <th>user_id</th>\n",
       "    </tr>\n",
       "  </thead>\n",
       "  <tbody>\n",
       "    <tr>\n",
       "      <th>0</th>\n",
       "      <td>--9e1ONYQuAa-CB_Rrw7Tw</td>\n",
       "      <td>Steakhouses, Restaurants, Cajun/Creole</td>\n",
       "      <td>Las Vegas</td>\n",
       "      <td>Delmonico Steakhouse</td>\n",
       "      <td>1546</td>\n",
       "      <td>4.0</td>\n",
       "      <td>0</td>\n",
       "      <td>2017-02-14</td>\n",
       "      <td>0</td>\n",
       "      <td>VETXTwMw6qxzOVDlXfe6Tg</td>\n",
       "      <td>5</td>\n",
       "      <td>went for dinner tonight. Amazing my husband ha...</td>\n",
       "      <td>0</td>\n",
       "      <td>ymlnR8UeFvB4FZL56tCZsA</td>\n",
       "    </tr>\n",
       "    <tr>\n",
       "      <th>1</th>\n",
       "      <td>--9e1ONYQuAa-CB_Rrw7Tw</td>\n",
       "      <td>Steakhouses, Restaurants, Cajun/Creole</td>\n",
       "      <td>Las Vegas</td>\n",
       "      <td>Delmonico Steakhouse</td>\n",
       "      <td>1546</td>\n",
       "      <td>4.0</td>\n",
       "      <td>0</td>\n",
       "      <td>2017-12-04</td>\n",
       "      <td>0</td>\n",
       "      <td>S8-8uZ7fa5YbjnEtaW15ng</td>\n",
       "      <td>5</td>\n",
       "      <td>This was an amazing dinning experience! ORDER ...</td>\n",
       "      <td>0</td>\n",
       "      <td>9pSSL6X6lFpY3FCRLEH3og</td>\n",
       "    </tr>\n",
       "    <tr>\n",
       "      <th>2</th>\n",
       "      <td>--9e1ONYQuAa-CB_Rrw7Tw</td>\n",
       "      <td>Steakhouses, Restaurants, Cajun/Creole</td>\n",
       "      <td>Las Vegas</td>\n",
       "      <td>Delmonico Steakhouse</td>\n",
       "      <td>1546</td>\n",
       "      <td>4.0</td>\n",
       "      <td>0</td>\n",
       "      <td>2016-08-22</td>\n",
       "      <td>1</td>\n",
       "      <td>1nK5w0VNfDlnR3bOz13dJQ</td>\n",
       "      <td>5</td>\n",
       "      <td>My husband and I went there for lunch on a Sat...</td>\n",
       "      <td>1</td>\n",
       "      <td>gm8nNoA3uB4In5o_Hxpq3g</td>\n",
       "    </tr>\n",
       "    <tr>\n",
       "      <th>3</th>\n",
       "      <td>--9e1ONYQuAa-CB_Rrw7Tw</td>\n",
       "      <td>Steakhouses, Restaurants, Cajun/Creole</td>\n",
       "      <td>Las Vegas</td>\n",
       "      <td>Delmonico Steakhouse</td>\n",
       "      <td>1546</td>\n",
       "      <td>4.0</td>\n",
       "      <td>0</td>\n",
       "      <td>2016-09-13</td>\n",
       "      <td>0</td>\n",
       "      <td>N1Z93BthdJ7FT2p5S22jIA</td>\n",
       "      <td>3</td>\n",
       "      <td>Went for a nice anniversary dinner. Researched...</td>\n",
       "      <td>0</td>\n",
       "      <td>CEtidlXNyQzgJSdF1ubPFw</td>\n",
       "    </tr>\n",
       "    <tr>\n",
       "      <th>4</th>\n",
       "      <td>--9e1ONYQuAa-CB_Rrw7Tw</td>\n",
       "      <td>Steakhouses, Restaurants, Cajun/Creole</td>\n",
       "      <td>Las Vegas</td>\n",
       "      <td>Delmonico Steakhouse</td>\n",
       "      <td>1546</td>\n",
       "      <td>4.0</td>\n",
       "      <td>0</td>\n",
       "      <td>2016-08-08</td>\n",
       "      <td>0</td>\n",
       "      <td>ir-EVhHyWna7KqYWtj660g</td>\n",
       "      <td>5</td>\n",
       "      <td>Hands down the best meal and service I have ev...</td>\n",
       "      <td>0</td>\n",
       "      <td>9_BhDyzJYf2JwTD9TyXJ4g</td>\n",
       "    </tr>\n",
       "  </tbody>\n",
       "</table>\n",
       "</div>"
      ],
      "text/plain": [
       "              business_id                              categories       city  \\\n",
       "0  --9e1ONYQuAa-CB_Rrw7Tw  Steakhouses, Restaurants, Cajun/Creole  Las Vegas   \n",
       "1  --9e1ONYQuAa-CB_Rrw7Tw  Steakhouses, Restaurants, Cajun/Creole  Las Vegas   \n",
       "2  --9e1ONYQuAa-CB_Rrw7Tw  Steakhouses, Restaurants, Cajun/Creole  Las Vegas   \n",
       "3  --9e1ONYQuAa-CB_Rrw7Tw  Steakhouses, Restaurants, Cajun/Creole  Las Vegas   \n",
       "4  --9e1ONYQuAa-CB_Rrw7Tw  Steakhouses, Restaurants, Cajun/Creole  Las Vegas   \n",
       "\n",
       "                   name  review_count  avg_stars  cool        date  funny  \\\n",
       "0  Delmonico Steakhouse          1546        4.0     0  2017-02-14      0   \n",
       "1  Delmonico Steakhouse          1546        4.0     0  2017-12-04      0   \n",
       "2  Delmonico Steakhouse          1546        4.0     0  2016-08-22      1   \n",
       "3  Delmonico Steakhouse          1546        4.0     0  2016-09-13      0   \n",
       "4  Delmonico Steakhouse          1546        4.0     0  2016-08-08      0   \n",
       "\n",
       "                review_id  stars  \\\n",
       "0  VETXTwMw6qxzOVDlXfe6Tg      5   \n",
       "1  S8-8uZ7fa5YbjnEtaW15ng      5   \n",
       "2  1nK5w0VNfDlnR3bOz13dJQ      5   \n",
       "3  N1Z93BthdJ7FT2p5S22jIA      3   \n",
       "4  ir-EVhHyWna7KqYWtj660g      5   \n",
       "\n",
       "                                                text  useful  \\\n",
       "0  went for dinner tonight. Amazing my husband ha...       0   \n",
       "1  This was an amazing dinning experience! ORDER ...       0   \n",
       "2  My husband and I went there for lunch on a Sat...       1   \n",
       "3  Went for a nice anniversary dinner. Researched...       0   \n",
       "4  Hands down the best meal and service I have ev...       0   \n",
       "\n",
       "                  user_id  \n",
       "0  ymlnR8UeFvB4FZL56tCZsA  \n",
       "1  9pSSL6X6lFpY3FCRLEH3og  \n",
       "2  gm8nNoA3uB4In5o_Hxpq3g  \n",
       "3  CEtidlXNyQzgJSdF1ubPFw  \n",
       "4  9_BhDyzJYf2JwTD9TyXJ4g  "
      ]
     },
     "execution_count": 4,
     "metadata": {},
     "output_type": "execute_result"
    }
   ],
   "source": [
    "df.head(5)"
   ]
  },
  {
   "cell_type": "code",
   "execution_count": 5,
   "metadata": {},
   "outputs": [
    {
     "data": {
      "text/html": [
       "<div>\n",
       "<style scoped>\n",
       "    .dataframe tbody tr th:only-of-type {\n",
       "        vertical-align: middle;\n",
       "    }\n",
       "\n",
       "    .dataframe tbody tr th {\n",
       "        vertical-align: top;\n",
       "    }\n",
       "\n",
       "    .dataframe thead th {\n",
       "        text-align: right;\n",
       "    }\n",
       "</style>\n",
       "<table border=\"1\" class=\"dataframe\">\n",
       "  <thead>\n",
       "    <tr style=\"text-align: right;\">\n",
       "      <th></th>\n",
       "      <th>review_count</th>\n",
       "      <th>avg_stars</th>\n",
       "      <th>cool</th>\n",
       "      <th>funny</th>\n",
       "      <th>stars</th>\n",
       "      <th>useful</th>\n",
       "    </tr>\n",
       "  </thead>\n",
       "  <tbody>\n",
       "    <tr>\n",
       "      <th>count</th>\n",
       "      <td>488769.000000</td>\n",
       "      <td>488769.000000</td>\n",
       "      <td>488769.000000</td>\n",
       "      <td>488769.000000</td>\n",
       "      <td>488769.000000</td>\n",
       "      <td>488769.000000</td>\n",
       "    </tr>\n",
       "    <tr>\n",
       "      <th>mean</th>\n",
       "      <td>909.766953</td>\n",
       "      <td>3.845618</td>\n",
       "      <td>0.582279</td>\n",
       "      <td>0.416190</td>\n",
       "      <td>3.836203</td>\n",
       "      <td>0.929895</td>\n",
       "    </tr>\n",
       "    <tr>\n",
       "      <th>std</th>\n",
       "      <td>1283.889899</td>\n",
       "      <td>0.597600</td>\n",
       "      <td>2.951839</td>\n",
       "      <td>2.198931</td>\n",
       "      <td>1.429897</td>\n",
       "      <td>3.440483</td>\n",
       "    </tr>\n",
       "    <tr>\n",
       "      <th>min</th>\n",
       "      <td>3.000000</td>\n",
       "      <td>1.000000</td>\n",
       "      <td>0.000000</td>\n",
       "      <td>0.000000</td>\n",
       "      <td>1.000000</td>\n",
       "      <td>0.000000</td>\n",
       "    </tr>\n",
       "    <tr>\n",
       "      <th>25%</th>\n",
       "      <td>209.000000</td>\n",
       "      <td>3.500000</td>\n",
       "      <td>0.000000</td>\n",
       "      <td>0.000000</td>\n",
       "      <td>3.000000</td>\n",
       "      <td>0.000000</td>\n",
       "    </tr>\n",
       "    <tr>\n",
       "      <th>50%</th>\n",
       "      <td>459.000000</td>\n",
       "      <td>4.000000</td>\n",
       "      <td>0.000000</td>\n",
       "      <td>0.000000</td>\n",
       "      <td>4.000000</td>\n",
       "      <td>0.000000</td>\n",
       "    </tr>\n",
       "    <tr>\n",
       "      <th>75%</th>\n",
       "      <td>1024.000000</td>\n",
       "      <td>4.500000</td>\n",
       "      <td>0.000000</td>\n",
       "      <td>0.000000</td>\n",
       "      <td>5.000000</td>\n",
       "      <td>1.000000</td>\n",
       "    </tr>\n",
       "    <tr>\n",
       "      <th>max</th>\n",
       "      <td>7968.000000</td>\n",
       "      <td>5.000000</td>\n",
       "      <td>227.000000</td>\n",
       "      <td>202.000000</td>\n",
       "      <td>5.000000</td>\n",
       "      <td>236.000000</td>\n",
       "    </tr>\n",
       "  </tbody>\n",
       "</table>\n",
       "</div>"
      ],
      "text/plain": [
       "        review_count      avg_stars           cool          funny  \\\n",
       "count  488769.000000  488769.000000  488769.000000  488769.000000   \n",
       "mean      909.766953       3.845618       0.582279       0.416190   \n",
       "std      1283.889899       0.597600       2.951839       2.198931   \n",
       "min         3.000000       1.000000       0.000000       0.000000   \n",
       "25%       209.000000       3.500000       0.000000       0.000000   \n",
       "50%       459.000000       4.000000       0.000000       0.000000   \n",
       "75%      1024.000000       4.500000       0.000000       0.000000   \n",
       "max      7968.000000       5.000000     227.000000     202.000000   \n",
       "\n",
       "               stars         useful  \n",
       "count  488769.000000  488769.000000  \n",
       "mean        3.836203       0.929895  \n",
       "std         1.429897       3.440483  \n",
       "min         1.000000       0.000000  \n",
       "25%         3.000000       0.000000  \n",
       "50%         4.000000       0.000000  \n",
       "75%         5.000000       1.000000  \n",
       "max         5.000000     236.000000  "
      ]
     },
     "execution_count": 5,
     "metadata": {},
     "output_type": "execute_result"
    }
   ],
   "source": [
    "df.describe()"
   ]
  },
  {
   "cell_type": "code",
   "execution_count": 6,
   "metadata": {},
   "outputs": [
    {
     "name": "stdout",
     "output_type": "stream",
     "text": [
      "business_id     0\n",
      "categories      0\n",
      "city            0\n",
      "name            0\n",
      "review_count    0\n",
      "avg_stars       0\n",
      "cool            0\n",
      "date            0\n",
      "funny           0\n",
      "review_id       0\n",
      "stars           0\n",
      "text            0\n",
      "useful          0\n",
      "user_id         0\n",
      "dtype: int64 488769\n"
     ]
    }
   ],
   "source": [
    "# inspect your documents, e.g. check the size, take a peek at elements of the numpy array\n",
    "print(df.isnull().sum(),len(df))\n"
   ]
  },
  {
   "cell_type": "markdown",
   "metadata": {},
   "source": [
    "## Exploratory data analysis(EDA)"
   ]
  },
  {
   "cell_type": "markdown",
   "metadata": {},
   "source": [
    "#### Check the histogram of the avg_star(restaurant performance)"
   ]
  },
  {
   "cell_type": "code",
   "execution_count": 6,
   "metadata": {},
   "outputs": [
    {
     "data": {
      "text/plain": [
       "Text(0,0.5,'counts')"
      ]
     },
     "execution_count": 6,
     "metadata": {},
     "output_type": "execute_result"
    },
    {
     "data": {
      "image/png": "[encoded data removed]",
      "text/plain": [
       "<Figure size 720x360 with 1 Axes>"
      ]
     },
     "metadata": {},
     "output_type": "display_data"
    }
   ],
   "source": [
    "h=df['stars'].value_counts().plot(kind='bar', align='center',width=0.5,figsize=(10,5))\n",
    "plt.xlabel('stars', fontdict=None, labelpad=None)\n",
    "plt.ylabel('counts', fontdict=None, labelpad=None)"
   ]
  },
  {
   "cell_type": "markdown",
   "metadata": {},
   "source": [
    "#### * Before jumping to review text,  take a loo at  text length statistics"
   ]
  },
  {
   "cell_type": "code",
   "execution_count": 7,
   "metadata": {},
   "outputs": [],
   "source": [
    "df['text length']=df['text'].apply(len)# measure how long a review is "
   ]
  },
  {
   "cell_type": "code",
   "execution_count": 8,
   "metadata": {},
   "outputs": [
    {
     "data": {
      "text/html": [
       "<div>\n",
       "<style scoped>\n",
       "    .dataframe tbody tr th:only-of-type {\n",
       "        vertical-align: middle;\n",
       "    }\n",
       "\n",
       "    .dataframe tbody tr th {\n",
       "        vertical-align: top;\n",
       "    }\n",
       "\n",
       "    .dataframe thead th {\n",
       "        text-align: right;\n",
       "    }\n",
       "</style>\n",
       "<table border=\"1\" class=\"dataframe\">\n",
       "  <thead>\n",
       "    <tr style=\"text-align: right;\">\n",
       "      <th></th>\n",
       "      <th>business_id</th>\n",
       "      <th>categories</th>\n",
       "      <th>city</th>\n",
       "      <th>name</th>\n",
       "      <th>review_count</th>\n",
       "      <th>avg_stars</th>\n",
       "      <th>cool</th>\n",
       "      <th>date</th>\n",
       "      <th>funny</th>\n",
       "      <th>review_id</th>\n",
       "      <th>stars</th>\n",
       "      <th>text</th>\n",
       "      <th>useful</th>\n",
       "      <th>user_id</th>\n",
       "      <th>text length</th>\n",
       "    </tr>\n",
       "  </thead>\n",
       "  <tbody>\n",
       "    <tr>\n",
       "      <th>0</th>\n",
       "      <td>--9e1ONYQuAa-CB_Rrw7Tw</td>\n",
       "      <td>Steakhouses, Restaurants, Cajun/Creole</td>\n",
       "      <td>Las Vegas</td>\n",
       "      <td>Delmonico Steakhouse</td>\n",
       "      <td>1546</td>\n",
       "      <td>4.0</td>\n",
       "      <td>0</td>\n",
       "      <td>2017-02-14</td>\n",
       "      <td>0</td>\n",
       "      <td>VETXTwMw6qxzOVDlXfe6Tg</td>\n",
       "      <td>5</td>\n",
       "      <td>went for dinner tonight. Amazing my husband ha...</td>\n",
       "      <td>0</td>\n",
       "      <td>ymlnR8UeFvB4FZL56tCZsA</td>\n",
       "      <td>252</td>\n",
       "    </tr>\n",
       "    <tr>\n",
       "      <th>1</th>\n",
       "      <td>--9e1ONYQuAa-CB_Rrw7Tw</td>\n",
       "      <td>Steakhouses, Restaurants, Cajun/Creole</td>\n",
       "      <td>Las Vegas</td>\n",
       "      <td>Delmonico Steakhouse</td>\n",
       "      <td>1546</td>\n",
       "      <td>4.0</td>\n",
       "      <td>0</td>\n",
       "      <td>2017-12-04</td>\n",
       "      <td>0</td>\n",
       "      <td>S8-8uZ7fa5YbjnEtaW15ng</td>\n",
       "      <td>5</td>\n",
       "      <td>This was an amazing dinning experience! ORDER ...</td>\n",
       "      <td>0</td>\n",
       "      <td>9pSSL6X6lFpY3FCRLEH3og</td>\n",
       "      <td>86</td>\n",
       "    </tr>\n",
       "    <tr>\n",
       "      <th>2</th>\n",
       "      <td>--9e1ONYQuAa-CB_Rrw7Tw</td>\n",
       "      <td>Steakhouses, Restaurants, Cajun/Creole</td>\n",
       "      <td>Las Vegas</td>\n",
       "      <td>Delmonico Steakhouse</td>\n",
       "      <td>1546</td>\n",
       "      <td>4.0</td>\n",
       "      <td>0</td>\n",
       "      <td>2016-08-22</td>\n",
       "      <td>1</td>\n",
       "      <td>1nK5w0VNfDlnR3bOz13dJQ</td>\n",
       "      <td>5</td>\n",
       "      <td>My husband and I went there for lunch on a Sat...</td>\n",
       "      <td>1</td>\n",
       "      <td>gm8nNoA3uB4In5o_Hxpq3g</td>\n",
       "      <td>2212</td>\n",
       "    </tr>\n",
       "    <tr>\n",
       "      <th>3</th>\n",
       "      <td>--9e1ONYQuAa-CB_Rrw7Tw</td>\n",
       "      <td>Steakhouses, Restaurants, Cajun/Creole</td>\n",
       "      <td>Las Vegas</td>\n",
       "      <td>Delmonico Steakhouse</td>\n",
       "      <td>1546</td>\n",
       "      <td>4.0</td>\n",
       "      <td>0</td>\n",
       "      <td>2016-09-13</td>\n",
       "      <td>0</td>\n",
       "      <td>N1Z93BthdJ7FT2p5S22jIA</td>\n",
       "      <td>3</td>\n",
       "      <td>Went for a nice anniversary dinner. Researched...</td>\n",
       "      <td>0</td>\n",
       "      <td>CEtidlXNyQzgJSdF1ubPFw</td>\n",
       "      <td>860</td>\n",
       "    </tr>\n",
       "    <tr>\n",
       "      <th>4</th>\n",
       "      <td>--9e1ONYQuAa-CB_Rrw7Tw</td>\n",
       "      <td>Steakhouses, Restaurants, Cajun/Creole</td>\n",
       "      <td>Las Vegas</td>\n",
       "      <td>Delmonico Steakhouse</td>\n",
       "      <td>1546</td>\n",
       "      <td>4.0</td>\n",
       "      <td>0</td>\n",
       "      <td>2016-08-08</td>\n",
       "      <td>0</td>\n",
       "      <td>ir-EVhHyWna7KqYWtj660g</td>\n",
       "      <td>5</td>\n",
       "      <td>Hands down the best meal and service I have ev...</td>\n",
       "      <td>0</td>\n",
       "      <td>9_BhDyzJYf2JwTD9TyXJ4g</td>\n",
       "      <td>312</td>\n",
       "    </tr>\n",
       "  </tbody>\n",
       "</table>\n",
       "</div>"
      ],
      "text/plain": [
       "              business_id                              categories       city  \\\n",
       "0  --9e1ONYQuAa-CB_Rrw7Tw  Steakhouses, Restaurants, Cajun/Creole  Las Vegas   \n",
       "1  --9e1ONYQuAa-CB_Rrw7Tw  Steakhouses, Restaurants, Cajun/Creole  Las Vegas   \n",
       "2  --9e1ONYQuAa-CB_Rrw7Tw  Steakhouses, Restaurants, Cajun/Creole  Las Vegas   \n",
       "3  --9e1ONYQuAa-CB_Rrw7Tw  Steakhouses, Restaurants, Cajun/Creole  Las Vegas   \n",
       "4  --9e1ONYQuAa-CB_Rrw7Tw  Steakhouses, Restaurants, Cajun/Creole  Las Vegas   \n",
       "\n",
       "                   name  review_count  avg_stars  cool        date  funny  \\\n",
       "0  Delmonico Steakhouse          1546        4.0     0  2017-02-14      0   \n",
       "1  Delmonico Steakhouse          1546        4.0     0  2017-12-04      0   \n",
       "2  Delmonico Steakhouse          1546        4.0     0  2016-08-22      1   \n",
       "3  Delmonico Steakhouse          1546        4.0     0  2016-09-13      0   \n",
       "4  Delmonico Steakhouse          1546        4.0     0  2016-08-08      0   \n",
       "\n",
       "                review_id  stars  \\\n",
       "0  VETXTwMw6qxzOVDlXfe6Tg      5   \n",
       "1  S8-8uZ7fa5YbjnEtaW15ng      5   \n",
       "2  1nK5w0VNfDlnR3bOz13dJQ      5   \n",
       "3  N1Z93BthdJ7FT2p5S22jIA      3   \n",
       "4  ir-EVhHyWna7KqYWtj660g      5   \n",
       "\n",
       "                                                text  useful  \\\n",
       "0  went for dinner tonight. Amazing my husband ha...       0   \n",
       "1  This was an amazing dinning experience! ORDER ...       0   \n",
       "2  My husband and I went there for lunch on a Sat...       1   \n",
       "3  Went for a nice anniversary dinner. Researched...       0   \n",
       "4  Hands down the best meal and service I have ev...       0   \n",
       "\n",
       "                  user_id  text length  \n",
       "0  ymlnR8UeFvB4FZL56tCZsA          252  \n",
       "1  9pSSL6X6lFpY3FCRLEH3og           86  \n",
       "2  gm8nNoA3uB4In5o_Hxpq3g         2212  \n",
       "3  CEtidlXNyQzgJSdF1ubPFw          860  \n",
       "4  9_BhDyzJYf2JwTD9TyXJ4g          312  "
      ]
     },
     "execution_count": 8,
     "metadata": {},
     "output_type": "execute_result"
    }
   ],
   "source": [
    "df.head(5)"
   ]
  },
  {
   "cell_type": "code",
   "execution_count": 9,
   "metadata": {},
   "outputs": [
    {
     "data": {
      "text/plain": [
       "Text(0.5,0,'text length')"
      ]
     },
     "execution_count": 9,
     "metadata": {},
     "output_type": "execute_result"
    },
    {
     "data": {
      "image/png": "[encoded data removed]",
      "text/plain": [
       "<Figure size 720x360 with 1 Axes>"
      ]
     },
     "metadata": {},
     "output_type": "display_data"
    }
   ],
   "source": [
    "df['text length'].plot.hist(bins=50,label='text length',figsize=(10,5))\n",
    "plt.xlabel('text length', fontdict=None, labelpad=None)"
   ]
  },
  {
   "cell_type": "code",
   "execution_count": 10,
   "metadata": {},
   "outputs": [
    {
     "data": {
      "text/plain": [
       "count    488769.000000\n",
       "mean        515.782525\n",
       "std         492.901409\n",
       "min           1.000000\n",
       "25%         204.000000\n",
       "50%         356.000000\n",
       "75%         647.000000\n",
       "max        5080.000000\n",
       "Name: text length, dtype: float64"
      ]
     },
     "execution_count": 10,
     "metadata": {},
     "output_type": "execute_result"
    }
   ],
   "source": [
    "df['text length'].describe()"
   ]
  },
  {
   "cell_type": "code",
   "execution_count": 11,
   "metadata": {},
   "outputs": [
    {
     "name": "stdout",
     "output_type": "stream",
     "text": [
      "[3] ['\"Just let me go we\\'ll meet again soon\\r\\n\"Now wait, wait, wait for me\\r\\n\"Please hang around\\r\\n\"I\\'ll see you when I fall asleep\"\\r\\n\\r\\n-------------------------------------\\r\\n\\r\\nIn A Sentence\\x99\\r\\nA faux-Mexican chain conveniently located in the far-North neighbourhood of Centennial. (Winter is Coming®.)\\r\\n\\r\\nQuick Review\\x99\\r\\n+ Chicken, pork*, steak, soy, vegetarian burritos/bowls, et cetera. They run through their queues fast as hell now (post-2015 scandal). (*Overheard today: \"is carnitas pork?\" Heh.) \\r\\n\\r\\n- Nickel and diming: 2$ upcharge for guacamole? Bruv, an USDA-certified organic avocado is a buck at Smith\\'s across the lot. \\r\\n\\r\\nEmployee of Excellence\\x99\\r\\n+ The cashier/till employee\\'s right-hand woman, typically the conduit between the Ford assembly line and the cashier, who noticed tonight that I had left my fancy phone on the wooding that frames the till area after having placed it there to get my free burrito offer scanned. \\r\\n\\r\\n-------------------------------------\\r\\n\\r\\nI\\'m the undisputed Duke of this establishment -- dusts crown -- therefore I suppose I will review. (Flagtrolls, get ready to flag. Morons at HQ, get ready to take it down.) \\r\\n\\r\\nThe first time I patronised the Chipotle Mexican Grill® chain was a decade ago in the U.S. midwest. Burritos in Minnesota. There is a difference between choosing to get faux-Mexican in a location where no authentic Mexican exists and doing so in Nevada, where there are countless authentic choices to select from. I stopped coming because of a) SYSCO delivery I witnessed at another valley Chipotle location; and b) there is a Roberto\\'s* on the other end of this same block (inside Terrible\\'s®).\\r\\n\\r\\n(*That is not remotely authentic either; however, it is closer on the Mejico spectrum.)\\r\\n\\r\\nIn any case, something always is promoted to bring us back. Marketing geniuses aren\\'t paid the big bucks to sit around and do nothing (all of the time). So, a couple of free burritos will bring me back, for the mere convenience. \\r\\n\\r\\nObservations since my recent return \\r\\n+ They are fast as shit now on the assembly line. They are moving, moving, moving. In and out in minutes. Not certain if it is exclusive to this location, or if it is a chain-wide mandate. They\\'re fast here. Faster than fast food. Seriously. \\r\\n\\r\\n+ The optional gratuity jar seems plenty of plentiful now during the promotion days. Good for these employees. They deserve it with how fast they are running through the customers. \\r\\n\\r\\n+ There are not that many customers here as before. \\r\\n\\r\\nFood\\r\\nA-OK. Adequate enough. I get the chicken because I assume I cannot be easily killed with chicken, or at least have less of a probability. I always get lettuce though and it will be probably what kills me in the end: greens. (Thanks vegans.)\\r\\n\\r\\nFirst: ask for the burrito. I think you can double-wrap at no additional cost, although I have never done it. (I have heard as well of the possibility of a quesadilla wrapped burrito from a particularly gluttonous Crossfitter from Kansas City, MO.)\\r\\nSecond: white rice or brown rice. I always pick brown because it is a better colour. (Technically, white isn\\'t event a colour [neither is black.])\\r\\nThird: black or pinto beans. I always select pinto because it is more fun to say. \\r\\nFourth: type of meat. I select pollo. \\r\\nFifth: pico. I always select pico de gallo. If you can\\'t pronounce it correctly, you might be uneducated. Return to primary school.\\r\\nSixth: crema, queso, no guac -- NO GUAC! -- y lechuga. (Translated: sour creme, cheese, lettuce.) \\r\\nSeventh: clarify if you wish to dine-in or eat out. Pay. Tip. Go home. \\r\\n\\r\\n[777.]\\r\\n\\r\\nService\\r\\nI\\'m a fan. It used to be slow in the past; however, they whipped them into shape. No lollygagging here! This ain\\'t Burger King®! Promote the till winglady at once upon a slot opening for ascension if she is not already the manager.\\r\\n\\r\\nAmbiance\\r\\nA-OK. They all look the same; this one is clean. More than adequate*.\\r\\n(*Music could be better though. Where are the corridos, coño?)\\r\\n\\r\\nParking\\r\\nA-OK. It\\'s free yet scarce anywhere near the restaurant on most nights. I park to the south or west in the lot and just walk. There is always parking along Pizza Hut® (because it\\'s Pizza Hut). Walking is probably good for you.\\r\\n\\r\\nPro Tip: the free menu item offer was available for a day -- I think -- and good for the month. Apologies if this tip is dated and not useful to you at this time. (Isn\\'t that the case with all tips?)\\r\\n\\r\\nPro Tip: the restrooms are around the back a la izquierda. \\r\\n\\r\\nPro Tip: this is definitely the smallest Chipotle location I have ever been in. \\r\\n\\r\\nFinal Word\\x99\\r\\nI am not sure if I am back-back, but they sure got me back at least for a couple of visits. Dropping a couple of dollars in the tip jar and eating essentially free burritos is good para el alma. \\r\\n\\r\\n-------------------------------------\\r\\n\\r\\nTourists\\r\\nNone here: it\\'s far from the strip.\\r\\n\\r\\nKids\\r\\nGood for \\'em+. (+Teach them early how to say pico.)\\r\\n\\r\\nDogs\\r\\nLeave them at home unless they are service-providing.\\r\\n\\r\\n-------------------------------------\\r\\n\\r\\nRating: Three-stars, \"A-OK.\" [5000 max limit.]']\n"
     ]
    }
   ],
   "source": [
    "print(df.loc[df['text length']==5080]['stars'].values, df.loc[df['text length']==5080]['text'].values,)"
   ]
  },
  {
   "cell_type": "code",
   "execution_count": 12,
   "metadata": {},
   "outputs": [
    {
     "data": {
      "image/png": "[encoded data removed]",
      "text/plain": [
       "<Figure size 432x288 with 1 Axes>"
      ]
     },
     "metadata": {},
     "output_type": "display_data"
    }
   ],
   "source": [
    "sns.boxplot(x='stars', y='text length', data=df)\n",
    "plt.savefig('Fig_boxplot_stars.pdf')"
   ]
  },
  {
   "cell_type": "code",
   "execution_count": 13,
   "metadata": {},
   "outputs": [
    {
     "data": {
      "image/png": "[encoded data removed]",
      "text/plain": [
       "<Figure size 648x432 with 5 Axes>"
      ]
     },
     "metadata": {},
     "output_type": "display_data"
    }
   ],
   "source": [
    "g = sns.FacetGrid(data=df, col='stars',col_wrap=3)\n",
    "g.map(plt.hist, 'text length', bins=50)\n",
    "plt.savefig('Fig_hist_stars.pdf')"
   ]
  },
  {
   "cell_type": "markdown",
   "metadata": {},
   "source": [
    "#### *rating is a direct meaure of customer's satisfaction, I am interested in high rating (4.5 stars and above) and imperfect (1-4.5 stars) rating"
   ]
  },
  {
   "cell_type": "code",
   "execution_count": 37,
   "metadata": {},
   "outputs": [],
   "source": [
    "# category the reviews, the\n",
    "df['target']=[1 if element > 4 else 0 for element in df['stars']]  \n",
    "target=df['target']"
   ]
  },
  {
   "cell_type": "markdown",
   "metadata": {},
   "source": [
    "#### *Check statistic of the target variable"
   ]
  },
  {
   "cell_type": "code",
   "execution_count": 15,
   "metadata": {},
   "outputs": [
    {
     "data": {
      "text/plain": [
       "count    488769.000000\n",
       "mean          0.687415\n",
       "std           0.463547\n",
       "min           0.000000\n",
       "25%           0.000000\n",
       "50%           1.000000\n",
       "75%           1.000000\n",
       "max           1.000000\n",
       "Name: target, dtype: float64"
      ]
     },
     "execution_count": 15,
     "metadata": {},
     "output_type": "execute_result"
    }
   ],
   "source": [
    "# To be implemented\n",
    "target.describe()"
   ]
  },
  {
   "cell_type": "code",
   "execution_count": 38,
   "metadata": {},
   "outputs": [
    {
     "name": "stdout",
     "output_type": "stream",
     "text": [
      "10/27/2016-I had my birthday dinner here and it was worth the splurge.  I have to say something about the décor - it was too plain and sterile and I expected a little more character from this establishment.  I would have added some wood paneling or some framed mirrors.  But the food was worth it.  We ordered the New Orleans BBQ Shrimp, Butternut Squash Ravioli, Traditional New Orleans Gumbo, and of course the 16 oz Rib Eye steak.  Our side dishes included the Country Smashed Potato, Delmonico Creamed Spinach, Buttered Fresh Asparagus, and Sauteed Garlic Mushrooms.  All the dishes we ordered were delicious.  Our steak was medium rare and it was sooo good.  The meat was tender with the right amount of fatty goodness.  My favorite sides were the asparagus (cooked just right, not over or under cooked) and the mushrooms.  The creamed spinach was a little too salty for me.  They added a nice touch to my birthday by serving complimentary appetizer and dessert (mango sorbet) (488769,)\n"
     ]
    }
   ],
   "source": [
    "# Take a look at the review\n",
    "documents=df['text'].values\n",
    "print(documents[10],documents.shape)"
   ]
  },
  {
   "cell_type": "markdown",
   "metadata": {},
   "source": [
    "## Create training dataset and test dataset"
   ]
  },
  {
   "cell_type": "code",
   "execution_count": 39,
   "metadata": {},
   "outputs": [],
   "source": [
    "from sklearn.cross_validation import train_test_split"
   ]
  },
  {
   "cell_type": "code",
   "execution_count": 40,
   "metadata": {},
   "outputs": [],
   "source": [
    "# Documents is your X, target is your y\n",
    "# Now split the data to training set and test set\n",
    "documents_train, documents_test, target_train, target_test = train_test_split(documents, target, test_size=0.3, random_state=0)"
   ]
  },
  {
   "cell_type": "code",
   "execution_count": 41,
   "metadata": {},
   "outputs": [
    {
     "data": {
      "text/plain": [
       "(342138,)"
      ]
     },
     "execution_count": 41,
     "metadata": {},
     "output_type": "execute_result"
    }
   ],
   "source": [
    "documents_train.shape"
   ]
  },
  {
   "cell_type": "markdown",
   "metadata": {},
   "source": [
    "## NLP representation of the documents"
   ]
  },
  {
   "cell_type": "code",
   "execution_count": 42,
   "metadata": {},
   "outputs": [],
   "source": [
    "#TfidfVectorizer\n",
    "from sklearn.feature_extraction.text import TfidfVectorizer"
   ]
  },
  {
   "cell_type": "code",
   "execution_count": 43,
   "metadata": {},
   "outputs": [
    {
     "data": {
      "text/plain": [
       "sklearn.feature_extraction.text.TfidfVectorizer"
      ]
     },
     "execution_count": 43,
     "metadata": {},
     "output_type": "execute_result"
    }
   ],
   "source": [
    "# Create TfidfVectorizer, and name it vectorizer\n",
    "vectorizer = TfidfVectorizer(stop_words='english', max_features=2000)\n",
    "type(vectorizer)"
   ]
  },
  {
   "cell_type": "code",
   "execution_count": 44,
   "metadata": {},
   "outputs": [],
   "source": [
    "# Train the model with the training data\n",
    "X_train = vectorizer.fit_transform(documents_train).toarray()\n",
    "words = vectorizer.get_feature_names()"
   ]
  },
  {
   "cell_type": "code",
   "execution_count": 24,
   "metadata": {},
   "outputs": [
    {
     "data": {
      "text/plain": [
       "['00',\n",
       " '10',\n",
       " '100',\n",
       " '11',\n",
       " '12',\n",
       " '13',\n",
       " '14',\n",
       " '15',\n",
       " '16',\n",
       " '17',\n",
       " '18',\n",
       " '19',\n",
       " '1st',\n",
       " '20',\n",
       " '2016',\n",
       " '2017',\n",
       " '21',\n",
       " '22',\n",
       " '24',\n",
       " '25',\n",
       " '2nd',\n",
       " '30',\n",
       " '30pm',\n",
       " '35',\n",
       " '3rd',\n",
       " '40',\n",
       " '45',\n",
       " '50',\n",
       " '60',\n",
       " '75',\n",
       " '80',\n",
       " '90',\n",
       " '95',\n",
       " '99',\n",
       " 'able',\n",
       " 'absolute',\n",
       " 'absolutely',\n",
       " 'accommodate',\n",
       " 'accommodating',\n",
       " 'actual',\n",
       " 'actually',\n",
       " 'add',\n",
       " 'added',\n",
       " 'adding',\n",
       " 'addition',\n",
       " 'additional',\n",
       " 'admit',\n",
       " 'adults',\n",
       " 'advance',\n",
       " 'affordable',\n",
       " 'afternoon',\n",
       " 'aged',\n",
       " 'ago',\n",
       " 'agree',\n",
       " 'agreed',\n",
       " 'ahead',\n",
       " 'ahi',\n",
       " 'aioli',\n",
       " 'air',\n",
       " 'airport',\n",
       " 'al',\n",
       " 'alcohol',\n",
       " 'alfredo',\n",
       " 'allow',\n",
       " 'allowed',\n",
       " 'almond',\n",
       " 'alright',\n",
       " 'amazing',\n",
       " 'amazingly',\n",
       " 'ambiance',\n",
       " 'ambience',\n",
       " 'american',\n",
       " 'anniversary',\n",
       " 'annoyed',\n",
       " 'annoying',\n",
       " 'answer',\n",
       " 'answered',\n",
       " 'anymore',\n",
       " 'anytime',\n",
       " 'anyways',\n",
       " 'apart',\n",
       " 'apologize',\n",
       " 'apologized',\n",
       " 'apology',\n",
       " 'app',\n",
       " 'apparently',\n",
       " 'appetite',\n",
       " 'appetizer',\n",
       " 'appetizers',\n",
       " 'apple',\n",
       " 'appreciate',\n",
       " 'appreciated',\n",
       " 'apps',\n",
       " 'area',\n",
       " 'aren',\n",
       " 'aria',\n",
       " 'arrive',\n",
       " 'arrived',\n",
       " 'art',\n",
       " 'asada',\n",
       " 'asian',\n",
       " 'aside',\n",
       " 'ask',\n",
       " 'asked',\n",
       " 'asking',\n",
       " 'asparagus',\n",
       " 'ass',\n",
       " 'ate',\n",
       " 'atmosphere',\n",
       " 'attention']"
      ]
     },
     "execution_count": 24,
     "metadata": {},
     "output_type": "execute_result"
    }
   ],
   "source": [
    "words[0:110]"
   ]
  },
  {
   "cell_type": "code",
   "execution_count": 45,
   "metadata": {},
   "outputs": [],
   "source": [
    "# Use the trained model to transform your test data\n",
    "y_test = target_test\n",
    "X_test=vectorizer.transform(documents_test).toarray()"
   ]
  },
  {
   "cell_type": "code",
   "execution_count": 46,
   "metadata": {},
   "outputs": [
    {
     "name": "stdout",
     "output_type": "stream",
     "text": [
      "(342138, 2000) (146631, 2000)\n"
     ]
    }
   ],
   "source": [
    "# Get the vocab of the tfidf\n",
    "print(X_train.shape,X_test.shape)"
   ]
  },
  {
   "cell_type": "code",
   "execution_count": 47,
   "metadata": {},
   "outputs": [],
   "source": [
    "from sklearn.feature_extraction.text import CountVectorizer"
   ]
  },
  {
   "cell_type": "code",
   "execution_count": 48,
   "metadata": {},
   "outputs": [],
   "source": [
    "vect_bow = CountVectorizer(stop_words='english', max_features=2000)"
   ]
  },
  {
   "cell_type": "code",
   "execution_count": 49,
   "metadata": {},
   "outputs": [],
   "source": [
    "X_train_bow = vect_bow.fit_transform(documents_train).toarray()\n",
    "words_bow = vect_bow.get_feature_names()"
   ]
  },
  {
   "cell_type": "code",
   "execution_count": 50,
   "metadata": {},
   "outputs": [
    {
     "data": {
      "text/plain": [
       "['00',\n",
       " '10',\n",
       " '100',\n",
       " '11',\n",
       " '12',\n",
       " '13',\n",
       " '14',\n",
       " '15',\n",
       " '16',\n",
       " '17',\n",
       " '18',\n",
       " '19',\n",
       " '1st',\n",
       " '20',\n",
       " '2016',\n",
       " '2017',\n",
       " '21',\n",
       " '22',\n",
       " '24',\n",
       " '25',\n",
       " '2nd',\n",
       " '30',\n",
       " '30pm',\n",
       " '35',\n",
       " '3rd',\n",
       " '40',\n",
       " '45',\n",
       " '50',\n",
       " '60',\n",
       " '75',\n",
       " '80',\n",
       " '90',\n",
       " '95',\n",
       " '99',\n",
       " 'able',\n",
       " 'absolute',\n",
       " 'absolutely',\n",
       " 'accommodate',\n",
       " 'accommodating',\n",
       " 'actual',\n",
       " 'actually',\n",
       " 'add',\n",
       " 'added',\n",
       " 'adding',\n",
       " 'addition',\n",
       " 'additional',\n",
       " 'admit',\n",
       " 'adults',\n",
       " 'advance',\n",
       " 'affordable',\n",
       " 'afternoon',\n",
       " 'aged',\n",
       " 'ago',\n",
       " 'agree',\n",
       " 'agreed',\n",
       " 'ahead',\n",
       " 'ahi',\n",
       " 'aioli',\n",
       " 'air',\n",
       " 'airport',\n",
       " 'al',\n",
       " 'alcohol',\n",
       " 'alfredo',\n",
       " 'allow',\n",
       " 'allowed',\n",
       " 'almond',\n",
       " 'alright',\n",
       " 'amazing',\n",
       " 'amazingly',\n",
       " 'ambiance',\n",
       " 'ambience',\n",
       " 'american',\n",
       " 'anniversary',\n",
       " 'annoyed',\n",
       " 'annoying',\n",
       " 'answer',\n",
       " 'answered',\n",
       " 'anymore',\n",
       " 'anytime',\n",
       " 'anyways',\n",
       " 'apart',\n",
       " 'apologize',\n",
       " 'apologized',\n",
       " 'apology',\n",
       " 'app',\n",
       " 'apparently',\n",
       " 'appetite',\n",
       " 'appetizer',\n",
       " 'appetizers',\n",
       " 'apple',\n",
       " 'appreciate',\n",
       " 'appreciated',\n",
       " 'apps',\n",
       " 'area',\n",
       " 'aren',\n",
       " 'aria',\n",
       " 'arrive',\n",
       " 'arrived',\n",
       " 'art',\n",
       " 'asada',\n",
       " 'asian',\n",
       " 'aside',\n",
       " 'ask',\n",
       " 'asked',\n",
       " 'asking',\n",
       " 'asparagus',\n",
       " 'ass',\n",
       " 'ate',\n",
       " 'atmosphere',\n",
       " 'attention']"
      ]
     },
     "execution_count": 50,
     "metadata": {},
     "output_type": "execute_result"
    }
   ],
   "source": [
    "words_bow[0:110]"
   ]
  },
  {
   "cell_type": "code",
   "execution_count": 51,
   "metadata": {},
   "outputs": [],
   "source": [
    "X_test_bow=vect_bow.transform(documents_test).toarray()"
   ]
  },
  {
   "cell_type": "markdown",
   "metadata": {},
   "source": [
    "## Similar review search engine"
   ]
  },
  {
   "cell_type": "code",
   "execution_count": 52,
   "metadata": {},
   "outputs": [],
   "source": [
    "import numpy as np\n",
    "\n",
    "# Build functions to return the top search values \n",
    "\n",
    "def get_top_values(lst, n, labels):\n",
    "    '''\n",
    "    INPUT: LIST, INTEGER, LIST\n",
    "    OUTPUT: LIST\n",
    "\n",
    "    Given a list of values, find the indices with the highest n values.\n",
    "    Return the labels for each of these indices.\n",
    "\n",
    "    e.g.\n",
    "    lst = [7, 3, 2, 4, 1]\n",
    "    n = 2\n",
    "    labels = [\"cat\", \"dog\", \"mouse\", \"pig\", \"rabbit\"]\n",
    "    output: [\"cat\", \"pig\"]\n",
    "    '''\n",
    "    return [labels[i] for i in np.argsort(lst)[::-1][:n]]  # np.argsort by default sorts values in ascending order\n"
   ]
  },
  {
   "cell_type": "markdown",
   "metadata": {},
   "source": [
    "### Top TFIDF 20 words in the training review set"
   ]
  },
  {
   "cell_type": "code",
   "execution_count": 31,
   "metadata": {},
   "outputs": [
    {
     "name": "stdout",
     "output_type": "stream",
     "text": [
      "top 20 by average tf-idf\n",
      "['food', 'great', 'good', 'place', 'service', 'time', 'just', 'like', 'best', 'vegas', 'amazing', 'really', 'delicious', 'chicken', 'love', 'ordered', 'restaurant', 'definitely', 'order', 'got']\n"
     ]
    }
   ],
   "source": [
    "avg = np.sum(X_train, axis=0) \n",
    "print(\"top 20 by average tf-idf\")\n",
    "print(get_top_values(avg, 20, words))\n"
   ]
  },
  {
   "cell_type": "markdown",
   "metadata": {},
   "source": [
    "### Top TF 20 words in the training review set"
   ]
  },
  {
   "cell_type": "code",
   "execution_count": 43,
   "metadata": {},
   "outputs": [
    {
     "name": "stdout",
     "output_type": "stream",
     "text": [
      "top 20 by average tf\n",
      "['food', 'good', 'place', 'great', 'service', 'just', 'like', 'time', 'ordered', 'really', 'vegas', 'order', 'restaurant', 'chicken', 'got', 'best', 'came', 'delicious', 've', 'amazing']\n"
     ]
    }
   ],
   "source": [
    "avg_bow = np.sum(X_train_bow, axis=0) \n",
    "print(\"top 20 by average tf\")\n",
    "print(get_top_values(avg_bow, 20, words_bow))"
   ]
  },
  {
   "cell_type": "markdown",
   "metadata": {},
   "source": [
    "## Build a search engine to find similar reviews"
   ]
  },
  {
   "cell_type": "code",
   "execution_count": 31,
   "metadata": {},
   "outputs": [],
   "source": [
    "# Use cosine similarity\n",
    "from sklearn.metrics.pairwise import cosine_similarity"
   ]
  },
  {
   "cell_type": "code",
   "execution_count": 32,
   "metadata": {},
   "outputs": [
    {
     "name": "stdout",
     "output_type": "stream",
     "text": [
      "[1] [\"I never even went here (went to a neighboring biz) but somehow they found my email address and solicited a review from me. And then didn't reply to my message when I contacted them about it. Well, here's your review! That is just creepy, stalking behavior from your business and completely uncalled for. I still want to know how you got my location data and email address.\"]\n"
     ]
    }
   ],
   "source": [
    "# Draw an arbitrary review from test (unseen in training) documents\n",
    "some_random_number = 42\n",
    "search_query = documents_test[some_random_number]\n",
    "search_query = [search_query] # Need to be put into a list-like format\n",
    "print(df.loc[df['text']==documents_test[some_random_number]]['stars'].values,search_query)"
   ]
  },
  {
   "cell_type": "code",
   "execution_count": 33,
   "metadata": {},
   "outputs": [
    {
     "name": "stdout",
     "output_type": "stream",
     "text": [
      "[[0. 0. 0. ... 0. 0. 0.]] (1, 2000)\n"
     ]
    }
   ],
   "source": [
    "# Transform the drawn review(s) to vector(s)\n",
    "search_query_vectorized = vectorizer.transform(search_query).toarray() # search_query needs to be a list format! [search_query]\n",
    "print(search_query_vectorized,search_query_vectorized.shape)"
   ]
  },
  {
   "cell_type": "code",
   "execution_count": 34,
   "metadata": {},
   "outputs": [],
   "source": [
    "simi_score_search=cosine_similarity(search_query_vectorized,X_train)"
   ]
  },
  {
   "cell_type": "code",
   "execution_count": 115,
   "metadata": {},
   "outputs": [
    {
     "data": {
      "text/plain": [
       "342138"
      ]
     },
     "execution_count": 115,
     "metadata": {},
     "output_type": "execute_result"
    }
   ],
   "source": [
    "len(simi_score_search[0])"
   ]
  },
  {
   "cell_type": "code",
   "execution_count": 116,
   "metadata": {},
   "outputs": [],
   "source": [
    "#find the top 5 silimar reviews\n",
    "n_rev=5\n",
    "returned_reviews=get_top_values(simi_score_search[0],n_rev,documents_train.tolist())\n",
    "returned_reviews_bow=get_top_values(simi_score_search_bow[0],n_rev,documents_train_bow.tolist())"
   ]
  },
  {
   "cell_type": "code",
   "execution_count": 117,
   "metadata": {},
   "outputs": [],
   "source": [
    "returned_rating=[df.loc[df['text']==returned_reviews[i]]['stars'].values[0] for i in range(n_rev)]"
   ]
  },
  {
   "cell_type": "code",
   "execution_count": 118,
   "metadata": {},
   "outputs": [],
   "source": [
    "returned_review_rating=[[returned_rating[i],returned_reviews[i]] for i in range(n_rev)]"
   ]
  },
  {
   "cell_type": "code",
   "execution_count": 119,
   "metadata": {},
   "outputs": [
    {
     "name": "stdout",
     "output_type": "stream",
     "text": [
      "[[5, \"Left a mediocre review awhile back & finally got around to going again. To be honest I was nervous because I was contacted by Omar, the manager because of my review (he was very polite & wanted to prevent the situation from happening again) so it shows that they care about their customer's experience. Very genuine people! When I went in I sat at the bar again & was automatically greeted by Ruben. I was super awkward since it turned out he recognized me from my review  But he was very chill & attentive. You can tell he was genuine the entire time. When Omar contacted me he offered me a free drink next time I came in but I personally didn't wanna bring that up  I didn't want anyone to know I wrote that review xD But nonetheless, Ruben comped my drink. I never even brought it up so I was taken by surprise. SO FUCKING SWEET! He apologized for my last experience which I didn't expect at all! Definitely give these people a try! They're worth it! P.S. I had the veggie bagel this time, AMAZING.\"], [1, 'Just so people know reading this review I didn\\'t want to give this business one star.  They don\\'t deserve but Yelp gave me no choice to hit only one star.  Anyways, we went to eat here because the sign says it is the \"best kabob\".  The only problem about the sign outside is that their sign is completely wrong and I cannot believe they will make this claim about their food.  I\\'m sure the coffee is better but me and my wife did not try the other food or drinks.  How can you suggest to recook the beef kabob if they didn\\'t cook throughly?  They did take one of the kabob off the bill but we just paid and left, because this is ridiculous business.  I would read reviews of people who have went there before going here, because you would not want to go here for sure.  We left to a different restaurant that has \"The Best Kabobs\" in Las Vegas.  I\\'m sure if you been there you would know their name and location.  Otherwise of you don\\'t know the place and never been stay away from here.  Message me for the name of that Best Kabob place to save your money, time and stomach from aching later on.  I would suggest they go another restaurant to take their business or close down the food area.  But this is the choice of the business and that\\'s my opinion.  Good luck and I hope you make an effort to do something or save yourself from bankruptcy.  Don\\'t expect us to come back ever again.'], [4, 'This review is long overdue. All I remember is that I had a business lunch here with a colleague and the burger was amazing.'], [1, \"Eh not a fan.  I don't even want to review a full on paragraph about it.  Disappointed each time.  Not satisified.\"], [1, \"This place is poor in service. I went there and there wasn't a lot of people but the service was still slow. The place run out of food, the bins were empty... the place was clean enough but still I was not happy leaving that place \\r\\n\\r\\nDerek, I did not put that review so you can send me free stuff and that is supposed to shut me up or write a nicer review, I can buy my own food.... trying to bribe your way out ? Is that how you do your business ? I wrote that so your business will improve, geez !\"]]\n"
     ]
    }
   ],
   "source": [
    "print(returned_review_rating)"
   ]
  },
  {
   "cell_type": "markdown",
   "metadata": {},
   "source": [
    "## ML model classifying positive/negative review"
   ]
  },
  {
   "cell_type": "markdown",
   "metadata": {},
   "source": [
    "### Logistic Regression Classifier"
   ]
  },
  {
   "cell_type": "code",
   "execution_count": 66,
   "metadata": {},
   "outputs": [
    {
     "data": {
      "text/plain": [
       "LogisticRegression(C=1.0, class_weight=None, dual=False, fit_intercept=True,\n",
       "          intercept_scaling=1, max_iter=100, multi_class='ovr', n_jobs=1,\n",
       "          penalty='l2', random_state=None, solver='liblinear', tol=0.0001,\n",
       "          verbose=0, warm_start=False)"
      ]
     },
     "execution_count": 66,
     "metadata": {},
     "output_type": "execute_result"
    }
   ],
   "source": [
    "# Build a Logistic Regression Classifier\n",
    "\n",
    "from sklearn.linear_model import LogisticRegression\n",
    "model_1og= LogisticRegression()\n",
    "model_1og.fit(X_train,target_train)"
   ]
  },
  {
   "cell_type": "code",
   "execution_count": 54,
   "metadata": {},
   "outputs": [
    {
     "data": {
      "text/plain": [
       "0.8342014041117911"
      ]
     },
     "execution_count": 54,
     "metadata": {},
     "output_type": "execute_result"
    }
   ],
   "source": [
    "# Get score for training set\n",
    "model_1og.score(X_train, target_train)"
   ]
  },
  {
   "cell_type": "code",
   "execution_count": 55,
   "metadata": {
    "scrolled": true
   },
   "outputs": [
    {
     "data": {
      "text/plain": [
       "0.8306019873014574"
      ]
     },
     "execution_count": 55,
     "metadata": {},
     "output_type": "execute_result"
    }
   ],
   "source": [
    "# Get score for test set\n",
    "model_1og.score(X_test, target_test)"
   ]
  },
  {
   "cell_type": "code",
   "execution_count": 67,
   "metadata": {},
   "outputs": [
    {
     "data": {
      "text/plain": [
       "array([[-1.04143952e+00,  1.06228843e+00,  1.26364661e+00, ...,\n",
       "         1.17322515e+00, -2.89675024e+00,  7.55185028e-04]])"
      ]
     },
     "execution_count": 67,
     "metadata": {},
     "output_type": "execute_result"
    }
   ],
   "source": [
    "model_1og.coef_"
   ]
  },
  {
   "cell_type": "code",
   "execution_count": 58,
   "metadata": {},
   "outputs": [
    {
     "name": "stdout",
     "output_type": "stream",
     "text": [
      "0.8342160180979604 0.830595167461178\n"
     ]
    }
   ],
   "source": [
    "model_1og_2= LogisticRegression()\n",
    "model_1og_2.fit(X_train_bow,target_train)\n",
    "print(model_1og.score(X_train_bow, target_train),model_1og_2.score(X_test_bow, target_test))"
   ]
  },
  {
   "cell_type": "code",
   "execution_count": 59,
   "metadata": {},
   "outputs": [
    {
     "data": {
      "text/plain": [
       "array([[-0.16660184,  0.14855367,  0.1956599 , ...,  0.20917866,\n",
       "        -0.75326763, -0.03858717]])"
      ]
     },
     "execution_count": 59,
     "metadata": {},
     "output_type": "execute_result"
    }
   ],
   "source": [
    "model_1og_2.coef_"
   ]
  },
  {
   "cell_type": "markdown",
   "metadata": {},
   "source": [
    "#### *Use cross validation to evaluate the classifiers\n",
    "\n",
    "[sklearn cross validation](http://scikit-learn.org/stable/modules/cross_validation.html)"
   ]
  },
  {
   "cell_type": "code",
   "execution_count": 40,
   "metadata": {},
   "outputs": [
    {
     "data": {
      "text/plain": [
       "array([-0.83236394, -0.83141404, -0.83229088, -0.8297919 , -0.82889545])"
      ]
     },
     "execution_count": 40,
     "metadata": {},
     "output_type": "execute_result"
    }
   ],
   "source": [
    "# Check the validation score\n",
    "\n",
    "from sklearn.model_selection import cross_val_score\n",
    "\n",
    "\n",
    "cv_scores = cross_val_score(model_1og, X_train, y=target_train,\n",
    "                                scoring=\"accuracy\", cv=5) \n"
   ]
  },
  {
   "cell_type": "code",
   "execution_count": 42,
   "metadata": {},
   "outputs": [
    {
     "data": {
      "text/plain": [
       "array([0.83236394, 0.83141404, 0.83229088, 0.8297919 , 0.82889545])"
      ]
     },
     "execution_count": 42,
     "metadata": {},
     "output_type": "execute_result"
    }
   ],
   "source": [
    "cv_scores"
   ]
  },
  {
   "cell_type": "markdown",
   "metadata": {},
   "source": [
    "#### *Look for words that make the positive predictions"
   ]
  },
  {
   "cell_type": "code",
   "execution_count": 69,
   "metadata": {},
   "outputs": [
    {
     "name": "stdout",
     "output_type": "stream",
     "text": [
      " the top 20 positive words of TF-IDF are : ['amazing', 'best', 'incredible', 'thank', 'awesome', 'phenomenal', 'perfection', 'heaven', 'delicious', 'perfect', 'highly', 'fantastic', 'excellent', 'great', 'favorite', 'impeccable', 'outstanding', 'love', 'holy', 'fabulous']\n"
     ]
    }
   ],
   "source": [
    "n_word = 20\n",
    "print(' the top 20 positive words of TF-IDF are :', get_top_values(model_1og.coef_[0], n_word, words))"
   ]
  },
  {
   "cell_type": "code",
   "execution_count": 61,
   "metadata": {},
   "outputs": [
    {
     "name": "stdout",
     "output_type": "stream",
     "text": [
      " the top 20 positive in bag of words are : ['incredible', 'impeccable', 'phenomenal', 'sooooo', 'amazing', 'deserves', 'heaven', 'thank', 'amazingly', 'everyday', 'holy', 'regret', 'perfection', 'superb', 'hospitality', 'omg', 'best', 'fabulous', 'soooo', 'awesome']\n"
     ]
    }
   ],
   "source": [
    "n_word = 20\n",
    "print(' the top 20 positive in bag of words are :', get_top_values(model_1og_2.coef_[0], n_word, words_bow))"
   ]
  },
  {
   "cell_type": "markdown",
   "metadata": {},
   "source": [
    "#### *Look for the key words that make the negative prediction"
   ]
  },
  {
   "cell_type": "code",
   "execution_count": 63,
   "metadata": {},
   "outputs": [],
   "source": [
    "def get_bottom_values(lst, n, labels):\n",
    "    '''\n",
    "    INPUT: LIST, INTEGER, LIST\n",
    "    OUTPUT: LIST\n",
    "\n",
    "    Given a list of values, find the indices with the lowest n values.\n",
    "    Return the labels for each of these indices.\n",
    "\n",
    "    e.g.\n",
    "    lst = [7, 3, 2, 4, 1]\n",
    "    n = 2\n",
    "    labels = [\"cat\", \"dog\", \"mouse\", \"pig\", \"rabbit\"]\n",
    "    output: [\"mouse\", \"rabbit\"]\n",
    "    '''\n",
    "    return [labels[i] for i in np.argsort(lst)[:n]]"
   ]
  },
  {
   "cell_type": "code",
   "execution_count": 139,
   "metadata": {},
   "outputs": [
    {
     "name": "stdout",
     "output_type": "stream",
     "text": [
      " the top 20 words suggesting poorly rated restaurant are : ['worst', 'horrible', 'disappointing', 'terrible', 'mediocre', 'ok', 'rude', 'bland', 'okay', 'lacked', 'slow', 'awful', 'poor', 'disgusting', 'worse', 'lacking', 'meh', 'overpriced', 'average', 'flavorless']\n"
     ]
    }
   ],
   "source": [
    "n_word = 20\n",
    "print(' the top negative 20 words  are :', get_bottom_values(model_1og.coef_[0], n_word, words))"
   ]
  },
  {
   "cell_type": "code",
   "execution_count": 64,
   "metadata": {},
   "outputs": [
    {
     "name": "stdout",
     "output_type": "stream",
     "text": [
      " the top negative 20 words in BOW are : ['worst', 'unprofessional', 'horrible', 'mediocre', 'disgusting', 'disappointing', 'lacked', 'awful', 'terrible', 'flavorless', 'rude', 'worse', 'tasteless', 'meh', 'poor', 'lacking', 'bland', 'sucked', 'overpriced', 'apology']\n"
     ]
    }
   ],
   "source": [
    "n_word = 20\n",
    "print(' the top negative 20 words in BOW are :', get_bottom_values(model_1og_2.coef_[0], n_word, words_bow))"
   ]
  },
  {
   "cell_type": "markdown",
   "metadata": {},
   "source": [
    "### Naive-Bayes Classifier"
   ]
  },
  {
   "cell_type": "code",
   "execution_count": 48,
   "metadata": {},
   "outputs": [
    {
     "data": {
      "text/plain": [
       "MultinomialNB(alpha=0.1, class_prior=None, fit_prior=True)"
      ]
     },
     "execution_count": 48,
     "metadata": {},
     "output_type": "execute_result"
    }
   ],
   "source": [
    "# Build a Naive-Bayes Classifier\n",
    "\n",
    "from sklearn.naive_bayes import MultinomialNB\n",
    "\n",
    "model = MultinomialNB(alpha=0.1)\n",
    "\n",
    "model.fit(X_train, target_train)"
   ]
  },
  {
   "cell_type": "code",
   "execution_count": 51,
   "metadata": {},
   "outputs": [],
   "source": [
    "target_test_pred=model.predict(X_test)"
   ]
  },
  {
   "cell_type": "code",
   "execution_count": 52,
   "metadata": {},
   "outputs": [
    {
     "data": {
      "text/plain": [
       "0.8737848470500208"
      ]
     },
     "execution_count": 52,
     "metadata": {},
     "output_type": "execute_result"
    }
   ],
   "source": [
    "# Get score for training set\n",
    "model.score(X_train, target_train)"
   ]
  },
  {
   "cell_type": "code",
   "execution_count": 53,
   "metadata": {},
   "outputs": [
    {
     "data": {
      "text/plain": [
       "0.873075952561191"
      ]
     },
     "execution_count": 53,
     "metadata": {},
     "output_type": "execute_result"
    }
   ],
   "source": [
    "# Get score for test set\n",
    "model.score(X_test, target_test)"
   ]
  },
  {
   "cell_type": "code",
   "execution_count": 54,
   "metadata": {},
   "outputs": [
    {
     "name": "stdout",
     "output_type": "stream",
     "text": [
      "235316 106822\n"
     ]
    }
   ],
   "source": [
    "print(sum(target_train==1),len(target_train)-sum(target_train))"
   ]
  },
  {
   "cell_type": "code",
   "execution_count": 65,
   "metadata": {},
   "outputs": [
    {
     "name": "stdout",
     "output_type": "stream",
     "text": [
      "0.8069843162700431 0.8066166090390163\n"
     ]
    }
   ],
   "source": [
    "# compare with the BOW\n",
    "from sklearn.naive_bayes import MultinomialNB\n",
    "\n",
    "model_NB = MultinomialNB(alpha=0.1)\n",
    "\n",
    "model_NB.fit(X_train_bow, target_train)\n",
    "\n",
    "\n",
    "print(model_NB.score(X_train_bow, target_train),model_NB.score(X_test_bow, target_test))\n",
    "\n"
   ]
  },
  {
   "cell_type": "markdown",
   "metadata": {},
   "source": [
    "##  Use grid search to find best predictable classifier\n",
    "\n",
    "\n",
    "[sklearn grid search tutorial (with cross validation)](http://scikit-learn.org/stable/modules/grid_search.html#grid-search)\n",
    "\n",
    "[sklearn grid search documentation (with cross validation)](http://scikit-learn.org/stable/modules/generated/sklearn.model_selection.GridSearchCV.html#sklearn.model_selection.GridSearchCV)"
   ]
  },
  {
   "cell_type": "code",
   "execution_count": 47,
   "metadata": {},
   "outputs": [
    {
     "data": {
      "text/plain": [
       "MultinomialNB(alpha=0.1, class_prior=None, fit_prior=True)"
      ]
     },
     "execution_count": 47,
     "metadata": {},
     "output_type": "execute_result"
    }
   ],
   "source": [
    "from sklearn.metrics import make_scorer, roc_auc_score, accuracy_score\n",
    "from sklearn.model_selection import GridSearchCV\n",
    "\n",
    "# Choose the type of classifier. \n",
    "clf = MultinomialNB()\n",
    "\n",
    "# Choose some parameter combinations to try\n",
    "param_grid = {'alpha': [0.00001,0.1,0.5,1,2]}\n",
    "\n",
    "\n",
    "# Run the grid search\n",
    "grid_obj = GridSearchCV(clf, param_grid, cv=5, scoring='accuracy')\n",
    "grid_obj = grid_obj.fit(X_train, target_train)\n",
    "\n",
    "# Set the clf to the best combination of parameters\n",
    "clf = grid_obj.best_estimator_\n",
    "\n",
    "# Fit the best algorithm to the data. \n",
    "clf.fit(X_train, target_train)"
   ]
  },
  {
   "cell_type": "markdown",
   "metadata": {},
   "source": [
    "### SVM classifier"
   ]
  },
  {
   "cell_type": "code",
   "execution_count": 128,
   "metadata": {},
   "outputs": [
    {
     "data": {
      "text/plain": [
       "0.8349233350285558"
      ]
     },
     "execution_count": 128,
     "metadata": {},
     "output_type": "execute_result"
    }
   ],
   "source": [
    "from sklearn.svm import LinearSVC\n",
    "\n",
    "model_SVC = LinearSVC()\n",
    "\n",
    "# Fit a model by providing X and y from training set\n",
    "model_SVC.fit(X_train, target_train)\n",
    "\n",
    "# Make prediction on the training data\n",
    "target_train_pred = model_SVC.predict(X_train)\n",
    "\n",
    "# Make predictions on test data\n",
    "target_test_pred = model_SVC.predict(X_test)\n",
    "\n",
    "# print model results\n",
    "model_SVC.score(X_train, target_train)"
   ]
  },
  {
   "cell_type": "code",
   "execution_count": 140,
   "metadata": {},
   "outputs": [
    {
     "data": {
      "text/plain": [
       "0.8310861959612906"
      ]
     },
     "execution_count": 140,
     "metadata": {},
     "output_type": "execute_result"
    }
   ],
   "source": [
    "model_SVC.score(X_test, target_test)"
   ]
  },
  {
   "cell_type": "code",
   "execution_count": null,
   "metadata": {},
   "outputs": [],
   "source": [
    "from sklearn import svm\n",
    "\n",
    "model_SVM = svm.SVC(kernel='poly',gamma=2)\n",
    "\n",
    "# Fit a model by providing X and y from training set\n",
    "model_SVM.fit(X_train, target_train)\n",
    "\n",
    "# print model results\n",
    "print(model_SVM.score(X_train, target_train),model_SVM.score(X_test, target_test))"
   ]
  },
  {
   "cell_type": "markdown",
   "metadata": {},
   "source": [
    "### Random Forest Classifier"
   ]
  },
  {
   "cell_type": "code",
   "execution_count": 177,
   "metadata": {},
   "outputs": [
    {
     "data": {
      "text/plain": [
       "OneVsRestClassifier(estimator=RandomForestClassifier(bootstrap=True, class_weight=None, criterion='gini',\n",
       "            max_depth=40, max_features='auto', max_leaf_nodes=None,\n",
       "            min_impurity_decrease=0.0, min_impurity_split=None,\n",
       "            min_samples_leaf=10, min_samples_split=2,\n",
       "            min_weight_fraction_leaf=0.0, n_estimators=50, n_jobs=1,\n",
       "            oob_score=False, random_state=1, verbose=0, warm_start=False),\n",
       "          n_jobs=-1)"
      ]
     },
     "execution_count": 177,
     "metadata": {},
     "output_type": "execute_result"
    }
   ],
   "source": [
    "# Build a Random Forest Classifier\n",
    "from sklearn.multiclass import OneVsRestClassifier\n",
    "from sklearn.ensemble import RandomForestClassifier\n",
    "estimator = RandomForestClassifier(n_estimators=50,max_depth=40,min_samples_leaf=10, random_state=1)# looks like increaing the depth increase\n",
    "model_rf= OneVsRestClassifier(estimator,n_jobs=-1)\n",
    "model_rf.fit(X_train,target_train)"
   ]
  },
  {
   "cell_type": "code",
   "execution_count": 178,
   "metadata": {},
   "outputs": [
    {
     "data": {
      "text/plain": [
       "0.8274585108932653"
      ]
     },
     "execution_count": 178,
     "metadata": {},
     "output_type": "execute_result"
    }
   ],
   "source": [
    "# Get score for training set\n",
    "model_rf.score(X_train, target_train)"
   ]
  },
  {
   "cell_type": "code",
   "execution_count": 179,
   "metadata": {},
   "outputs": [
    {
     "data": {
      "text/plain": [
       "0.8006765281557106"
      ]
     },
     "execution_count": 179,
     "metadata": {},
     "output_type": "execute_result"
    }
   ],
   "source": [
    "# Get score for test set\n",
    "model_rf.score(X_test, y_test)"
   ]
  },
  {
   "cell_type": "code",
   "execution_count": 180,
   "metadata": {},
   "outputs": [],
   "source": [
    "target_train_pred=model_rf.predict(X_train)\n",
    "target_test_pred=model_rf.predict(X_test)"
   ]
  },
  {
   "cell_type": "markdown",
   "metadata": {},
   "source": [
    "### Gradient Boosting Classifier\n",
    "#### *warning: This runs for a long long time......so start with small number of estimators"
   ]
  },
  {
   "cell_type": "code",
   "execution_count": null,
   "metadata": {},
   "outputs": [],
   "source": [
    "from sklearn.ensemble import GradientBoostingClassifier\n",
    "\n",
    "# Choose some parameter combinations to try\n",
    "parameters = {\n",
    "    'n_estimators': 10,\n",
    "    'max_depth': 5,\n",
    "    'learning_rate': 0.2,\n",
    "    'random_state': 42\n",
    "}\n",
    "\n",
    "model_GB = GradientBoostingClassifier(**parameters)\n",
    "\n",
    "# Train test model\n",
    "model_GB.fit(X_train, target_train)\n",
    "target_train_pred = model_GB.predict(X_train)\n",
    "target_test_pred = model_GB.predict(X_test)\n",
    "model_GB.score(X_train, target_train)"
   ]
  }
 ],
 "metadata": {
  "anaconda-cloud": {},
  "kernelspec": {
   "display_name": "Python 3",
   "language": "python",
   "name": "python3"
  },
  "language_info": {
   "codemirror_mode": {
    "name": "ipython",
    "version": 3
   },
   "file_extension": ".py",
   "mimetype": "text/x-python",
   "name": "python",
   "nbconvert_exporter": "python",
   "pygments_lexer": "ipython3",
   "version": "3.6.5"
  }
 },
 "nbformat": 4,
 "nbformat_minor": 1
}
