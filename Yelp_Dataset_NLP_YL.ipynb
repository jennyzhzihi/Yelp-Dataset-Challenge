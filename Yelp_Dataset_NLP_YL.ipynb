{
 "cells": [
  {
   "cell_type": "markdown",
   "metadata": {},
   "source": [
    "# Yelp Data Challenge - NLP\n",
    "\n",
    "\n",
    "Sep 2018\n",
    "\n",
    "## data description\n",
    "### business info\n",
    "#### *business_id, *categories, *city, *name, *review_count,  *avg_stars\n",
    "\n",
    "### customer info\n",
    "#### *review_id,  *user_id, *cool, *funny, *useful, *stars, text"
   ]
  },
  {
   "cell_type": "markdown",
   "metadata": {},
   "source": [
    "## Import data"
   ]
  },
  {
   "cell_type": "code",
   "execution_count": 24,
   "metadata": {},
   "outputs": [],
   "source": [
    "import pandas as pd\n",
    "import numpy as np\n",
    "%matplotlib inline\n",
    "import matplotlib \n",
    "import matplotlib.pyplot as plt\n",
    "plt.style.use('ggplot')\n",
    "import seaborn as sns"
   ]
  },
  {
   "cell_type": "code",
   "execution_count": 8,
   "metadata": {},
   "outputs": [],
   "source": [
    "df = pd.read_csv('clean_busi_rev_joint.csv')"
   ]
  },
  {
   "cell_type": "code",
   "execution_count": 9,
   "metadata": {},
   "outputs": [
    {
     "name": "stdout",
     "output_type": "stream",
     "text": [
      "<class 'pandas.core.frame.DataFrame'>\n",
      "RangeIndex: 488769 entries, 0 to 488768\n",
      "Data columns (total 14 columns):\n",
      "business_id     488769 non-null object\n",
      "categories      488769 non-null object\n",
      "city            488769 non-null object\n",
      "name            488769 non-null object\n",
      "review_count    488769 non-null int64\n",
      "avg_stars       488769 non-null float64\n",
      "cool            488769 non-null int64\n",
      "date            488769 non-null object\n",
      "funny           488769 non-null int64\n",
      "review_id       488769 non-null object\n",
      "stars           488769 non-null int64\n",
      "text            488769 non-null object\n",
      "useful          488769 non-null int64\n",
      "user_id         488769 non-null object\n",
      "dtypes: float64(1), int64(5), object(8)\n",
      "memory usage: 52.2+ MB\n"
     ]
    }
   ],
   "source": [
    "df.info()"
   ]
  },
  {
   "cell_type": "code",
   "execution_count": 10,
   "metadata": {},
   "outputs": [
    {
     "data": {
      "text/html": [
       "<div>\n",
       "<style scoped>\n",
       "    .dataframe tbody tr th:only-of-type {\n",
       "        vertical-align: middle;\n",
       "    }\n",
       "\n",
       "    .dataframe tbody tr th {\n",
       "        vertical-align: top;\n",
       "    }\n",
       "\n",
       "    .dataframe thead th {\n",
       "        text-align: right;\n",
       "    }\n",
       "</style>\n",
       "<table border=\"1\" class=\"dataframe\">\n",
       "  <thead>\n",
       "    <tr style=\"text-align: right;\">\n",
       "      <th></th>\n",
       "      <th>business_id</th>\n",
       "      <th>categories</th>\n",
       "      <th>city</th>\n",
       "      <th>name</th>\n",
       "      <th>review_count</th>\n",
       "      <th>avg_stars</th>\n",
       "      <th>cool</th>\n",
       "      <th>date</th>\n",
       "      <th>funny</th>\n",
       "      <th>review_id</th>\n",
       "      <th>stars</th>\n",
       "      <th>text</th>\n",
       "      <th>useful</th>\n",
       "      <th>user_id</th>\n",
       "    </tr>\n",
       "  </thead>\n",
       "  <tbody>\n",
       "    <tr>\n",
       "      <th>0</th>\n",
       "      <td>--9e1ONYQuAa-CB_Rrw7Tw</td>\n",
       "      <td>Steakhouses, Restaurants, Cajun/Creole</td>\n",
       "      <td>Las Vegas</td>\n",
       "      <td>Delmonico Steakhouse</td>\n",
       "      <td>1546</td>\n",
       "      <td>4.0</td>\n",
       "      <td>0</td>\n",
       "      <td>2017-02-14</td>\n",
       "      <td>0</td>\n",
       "      <td>VETXTwMw6qxzOVDlXfe6Tg</td>\n",
       "      <td>5</td>\n",
       "      <td>went for dinner tonight. Amazing my husband ha...</td>\n",
       "      <td>0</td>\n",
       "      <td>ymlnR8UeFvB4FZL56tCZsA</td>\n",
       "    </tr>\n",
       "    <tr>\n",
       "      <th>1</th>\n",
       "      <td>--9e1ONYQuAa-CB_Rrw7Tw</td>\n",
       "      <td>Steakhouses, Restaurants, Cajun/Creole</td>\n",
       "      <td>Las Vegas</td>\n",
       "      <td>Delmonico Steakhouse</td>\n",
       "      <td>1546</td>\n",
       "      <td>4.0</td>\n",
       "      <td>0</td>\n",
       "      <td>2017-12-04</td>\n",
       "      <td>0</td>\n",
       "      <td>S8-8uZ7fa5YbjnEtaW15ng</td>\n",
       "      <td>5</td>\n",
       "      <td>This was an amazing dinning experience! ORDER ...</td>\n",
       "      <td>0</td>\n",
       "      <td>9pSSL6X6lFpY3FCRLEH3og</td>\n",
       "    </tr>\n",
       "    <tr>\n",
       "      <th>2</th>\n",
       "      <td>--9e1ONYQuAa-CB_Rrw7Tw</td>\n",
       "      <td>Steakhouses, Restaurants, Cajun/Creole</td>\n",
       "      <td>Las Vegas</td>\n",
       "      <td>Delmonico Steakhouse</td>\n",
       "      <td>1546</td>\n",
       "      <td>4.0</td>\n",
       "      <td>0</td>\n",
       "      <td>2016-08-22</td>\n",
       "      <td>1</td>\n",
       "      <td>1nK5w0VNfDlnR3bOz13dJQ</td>\n",
       "      <td>5</td>\n",
       "      <td>My husband and I went there for lunch on a Sat...</td>\n",
       "      <td>1</td>\n",
       "      <td>gm8nNoA3uB4In5o_Hxpq3g</td>\n",
       "    </tr>\n",
       "    <tr>\n",
       "      <th>3</th>\n",
       "      <td>--9e1ONYQuAa-CB_Rrw7Tw</td>\n",
       "      <td>Steakhouses, Restaurants, Cajun/Creole</td>\n",
       "      <td>Las Vegas</td>\n",
       "      <td>Delmonico Steakhouse</td>\n",
       "      <td>1546</td>\n",
       "      <td>4.0</td>\n",
       "      <td>0</td>\n",
       "      <td>2016-09-13</td>\n",
       "      <td>0</td>\n",
       "      <td>N1Z93BthdJ7FT2p5S22jIA</td>\n",
       "      <td>3</td>\n",
       "      <td>Went for a nice anniversary dinner. Researched...</td>\n",
       "      <td>0</td>\n",
       "      <td>CEtidlXNyQzgJSdF1ubPFw</td>\n",
       "    </tr>\n",
       "    <tr>\n",
       "      <th>4</th>\n",
       "      <td>--9e1ONYQuAa-CB_Rrw7Tw</td>\n",
       "      <td>Steakhouses, Restaurants, Cajun/Creole</td>\n",
       "      <td>Las Vegas</td>\n",
       "      <td>Delmonico Steakhouse</td>\n",
       "      <td>1546</td>\n",
       "      <td>4.0</td>\n",
       "      <td>0</td>\n",
       "      <td>2016-08-08</td>\n",
       "      <td>0</td>\n",
       "      <td>ir-EVhHyWna7KqYWtj660g</td>\n",
       "      <td>5</td>\n",
       "      <td>Hands down the best meal and service I have ev...</td>\n",
       "      <td>0</td>\n",
       "      <td>9_BhDyzJYf2JwTD9TyXJ4g</td>\n",
       "    </tr>\n",
       "  </tbody>\n",
       "</table>\n",
       "</div>"
      ],
      "text/plain": [
       "              business_id                              categories       city  \\\n",
       "0  --9e1ONYQuAa-CB_Rrw7Tw  Steakhouses, Restaurants, Cajun/Creole  Las Vegas   \n",
       "1  --9e1ONYQuAa-CB_Rrw7Tw  Steakhouses, Restaurants, Cajun/Creole  Las Vegas   \n",
       "2  --9e1ONYQuAa-CB_Rrw7Tw  Steakhouses, Restaurants, Cajun/Creole  Las Vegas   \n",
       "3  --9e1ONYQuAa-CB_Rrw7Tw  Steakhouses, Restaurants, Cajun/Creole  Las Vegas   \n",
       "4  --9e1ONYQuAa-CB_Rrw7Tw  Steakhouses, Restaurants, Cajun/Creole  Las Vegas   \n",
       "\n",
       "                   name  review_count  avg_stars  cool        date  funny  \\\n",
       "0  Delmonico Steakhouse          1546        4.0     0  2017-02-14      0   \n",
       "1  Delmonico Steakhouse          1546        4.0     0  2017-12-04      0   \n",
       "2  Delmonico Steakhouse          1546        4.0     0  2016-08-22      1   \n",
       "3  Delmonico Steakhouse          1546        4.0     0  2016-09-13      0   \n",
       "4  Delmonico Steakhouse          1546        4.0     0  2016-08-08      0   \n",
       "\n",
       "                review_id  stars  \\\n",
       "0  VETXTwMw6qxzOVDlXfe6Tg      5   \n",
       "1  S8-8uZ7fa5YbjnEtaW15ng      5   \n",
       "2  1nK5w0VNfDlnR3bOz13dJQ      5   \n",
       "3  N1Z93BthdJ7FT2p5S22jIA      3   \n",
       "4  ir-EVhHyWna7KqYWtj660g      5   \n",
       "\n",
       "                                                text  useful  \\\n",
       "0  went for dinner tonight. Amazing my husband ha...       0   \n",
       "1  This was an amazing dinning experience! ORDER ...       0   \n",
       "2  My husband and I went there for lunch on a Sat...       1   \n",
       "3  Went for a nice anniversary dinner. Researched...       0   \n",
       "4  Hands down the best meal and service I have ev...       0   \n",
       "\n",
       "                  user_id  \n",
       "0  ymlnR8UeFvB4FZL56tCZsA  \n",
       "1  9pSSL6X6lFpY3FCRLEH3og  \n",
       "2  gm8nNoA3uB4In5o_Hxpq3g  \n",
       "3  CEtidlXNyQzgJSdF1ubPFw  \n",
       "4  9_BhDyzJYf2JwTD9TyXJ4g  "
      ]
     },
     "execution_count": 10,
     "metadata": {},
     "output_type": "execute_result"
    }
   ],
   "source": [
    "df.head(5)"
   ]
  },
  {
   "cell_type": "code",
   "execution_count": 15,
   "metadata": {},
   "outputs": [
    {
     "data": {
      "text/html": [
       "<div>\n",
       "<style scoped>\n",
       "    .dataframe tbody tr th:only-of-type {\n",
       "        vertical-align: middle;\n",
       "    }\n",
       "\n",
       "    .dataframe tbody tr th {\n",
       "        vertical-align: top;\n",
       "    }\n",
       "\n",
       "    .dataframe thead th {\n",
       "        text-align: right;\n",
       "    }\n",
       "</style>\n",
       "<table border=\"1\" class=\"dataframe\">\n",
       "  <thead>\n",
       "    <tr style=\"text-align: right;\">\n",
       "      <th></th>\n",
       "      <th>review_count</th>\n",
       "      <th>avg_stars</th>\n",
       "      <th>cool</th>\n",
       "      <th>funny</th>\n",
       "      <th>stars</th>\n",
       "      <th>useful</th>\n",
       "    </tr>\n",
       "  </thead>\n",
       "  <tbody>\n",
       "    <tr>\n",
       "      <th>count</th>\n",
       "      <td>488769.000000</td>\n",
       "      <td>488769.000000</td>\n",
       "      <td>488769.000000</td>\n",
       "      <td>488769.000000</td>\n",
       "      <td>488769.000000</td>\n",
       "      <td>488769.000000</td>\n",
       "    </tr>\n",
       "    <tr>\n",
       "      <th>mean</th>\n",
       "      <td>909.766953</td>\n",
       "      <td>3.845618</td>\n",
       "      <td>0.582279</td>\n",
       "      <td>0.416190</td>\n",
       "      <td>3.836203</td>\n",
       "      <td>0.929895</td>\n",
       "    </tr>\n",
       "    <tr>\n",
       "      <th>std</th>\n",
       "      <td>1283.889899</td>\n",
       "      <td>0.597600</td>\n",
       "      <td>2.951839</td>\n",
       "      <td>2.198931</td>\n",
       "      <td>1.429897</td>\n",
       "      <td>3.440483</td>\n",
       "    </tr>\n",
       "    <tr>\n",
       "      <th>min</th>\n",
       "      <td>3.000000</td>\n",
       "      <td>1.000000</td>\n",
       "      <td>0.000000</td>\n",
       "      <td>0.000000</td>\n",
       "      <td>1.000000</td>\n",
       "      <td>0.000000</td>\n",
       "    </tr>\n",
       "    <tr>\n",
       "      <th>25%</th>\n",
       "      <td>209.000000</td>\n",
       "      <td>3.500000</td>\n",
       "      <td>0.000000</td>\n",
       "      <td>0.000000</td>\n",
       "      <td>3.000000</td>\n",
       "      <td>0.000000</td>\n",
       "    </tr>\n",
       "    <tr>\n",
       "      <th>50%</th>\n",
       "      <td>459.000000</td>\n",
       "      <td>4.000000</td>\n",
       "      <td>0.000000</td>\n",
       "      <td>0.000000</td>\n",
       "      <td>4.000000</td>\n",
       "      <td>0.000000</td>\n",
       "    </tr>\n",
       "    <tr>\n",
       "      <th>75%</th>\n",
       "      <td>1024.000000</td>\n",
       "      <td>4.500000</td>\n",
       "      <td>0.000000</td>\n",
       "      <td>0.000000</td>\n",
       "      <td>5.000000</td>\n",
       "      <td>1.000000</td>\n",
       "    </tr>\n",
       "    <tr>\n",
       "      <th>max</th>\n",
       "      <td>7968.000000</td>\n",
       "      <td>5.000000</td>\n",
       "      <td>227.000000</td>\n",
       "      <td>202.000000</td>\n",
       "      <td>5.000000</td>\n",
       "      <td>236.000000</td>\n",
       "    </tr>\n",
       "  </tbody>\n",
       "</table>\n",
       "</div>"
      ],
      "text/plain": [
       "        review_count      avg_stars           cool          funny  \\\n",
       "count  488769.000000  488769.000000  488769.000000  488769.000000   \n",
       "mean      909.766953       3.845618       0.582279       0.416190   \n",
       "std      1283.889899       0.597600       2.951839       2.198931   \n",
       "min         3.000000       1.000000       0.000000       0.000000   \n",
       "25%       209.000000       3.500000       0.000000       0.000000   \n",
       "50%       459.000000       4.000000       0.000000       0.000000   \n",
       "75%      1024.000000       4.500000       0.000000       0.000000   \n",
       "max      7968.000000       5.000000     227.000000     202.000000   \n",
       "\n",
       "               stars         useful  \n",
       "count  488769.000000  488769.000000  \n",
       "mean        3.836203       0.929895  \n",
       "std         1.429897       3.440483  \n",
       "min         1.000000       0.000000  \n",
       "25%         3.000000       0.000000  \n",
       "50%         4.000000       0.000000  \n",
       "75%         5.000000       1.000000  \n",
       "max         5.000000     236.000000  "
      ]
     },
     "execution_count": 15,
     "metadata": {},
     "output_type": "execute_result"
    }
   ],
   "source": [
    "df.describe()"
   ]
  },
  {
   "cell_type": "code",
   "execution_count": 14,
   "metadata": {},
   "outputs": [
    {
     "name": "stdout",
     "output_type": "stream",
     "text": [
      "0 488769\n"
     ]
    }
   ],
   "source": [
    "# inspect your documents, e.g. check the size, take a peek at elements of the numpy array\n",
    "print(documents.isnull().sum(),len(documents))\n"
   ]
  },
  {
   "cell_type": "markdown",
   "metadata": {},
   "source": [
    "## Exploratory data analysis(EDA)"
   ]
  },
  {
   "cell_type": "markdown",
   "metadata": {},
   "source": [
    "#### * text length is one measure of customer's satisfaction"
   ]
  },
  {
   "cell_type": "code",
   "execution_count": 32,
   "metadata": {},
   "outputs": [],
   "source": [
    "df['text length']=df['text'].apply(len)"
   ]
  },
  {
   "cell_type": "code",
   "execution_count": 45,
   "metadata": {},
   "outputs": [
    {
     "data": {
      "text/html": [
       "<div>\n",
       "<style scoped>\n",
       "    .dataframe tbody tr th:only-of-type {\n",
       "        vertical-align: middle;\n",
       "    }\n",
       "\n",
       "    .dataframe tbody tr th {\n",
       "        vertical-align: top;\n",
       "    }\n",
       "\n",
       "    .dataframe thead th {\n",
       "        text-align: right;\n",
       "    }\n",
       "</style>\n",
       "<table border=\"1\" class=\"dataframe\">\n",
       "  <thead>\n",
       "    <tr style=\"text-align: right;\">\n",
       "      <th></th>\n",
       "      <th>business_id</th>\n",
       "      <th>categories</th>\n",
       "      <th>city</th>\n",
       "      <th>name</th>\n",
       "      <th>review_count</th>\n",
       "      <th>avg_stars</th>\n",
       "      <th>cool</th>\n",
       "      <th>date</th>\n",
       "      <th>funny</th>\n",
       "      <th>review_id</th>\n",
       "      <th>stars</th>\n",
       "      <th>text</th>\n",
       "      <th>useful</th>\n",
       "      <th>user_id</th>\n",
       "      <th>text length</th>\n",
       "    </tr>\n",
       "  </thead>\n",
       "  <tbody>\n",
       "    <tr>\n",
       "      <th>0</th>\n",
       "      <td>--9e1ONYQuAa-CB_Rrw7Tw</td>\n",
       "      <td>Steakhouses, Restaurants, Cajun/Creole</td>\n",
       "      <td>Las Vegas</td>\n",
       "      <td>Delmonico Steakhouse</td>\n",
       "      <td>1546</td>\n",
       "      <td>4.0</td>\n",
       "      <td>0</td>\n",
       "      <td>2017-02-14</td>\n",
       "      <td>0</td>\n",
       "      <td>VETXTwMw6qxzOVDlXfe6Tg</td>\n",
       "      <td>5</td>\n",
       "      <td>went for dinner tonight. Amazing my husband ha...</td>\n",
       "      <td>0</td>\n",
       "      <td>ymlnR8UeFvB4FZL56tCZsA</td>\n",
       "      <td>252</td>\n",
       "    </tr>\n",
       "    <tr>\n",
       "      <th>1</th>\n",
       "      <td>--9e1ONYQuAa-CB_Rrw7Tw</td>\n",
       "      <td>Steakhouses, Restaurants, Cajun/Creole</td>\n",
       "      <td>Las Vegas</td>\n",
       "      <td>Delmonico Steakhouse</td>\n",
       "      <td>1546</td>\n",
       "      <td>4.0</td>\n",
       "      <td>0</td>\n",
       "      <td>2017-12-04</td>\n",
       "      <td>0</td>\n",
       "      <td>S8-8uZ7fa5YbjnEtaW15ng</td>\n",
       "      <td>5</td>\n",
       "      <td>This was an amazing dinning experience! ORDER ...</td>\n",
       "      <td>0</td>\n",
       "      <td>9pSSL6X6lFpY3FCRLEH3og</td>\n",
       "      <td>86</td>\n",
       "    </tr>\n",
       "    <tr>\n",
       "      <th>2</th>\n",
       "      <td>--9e1ONYQuAa-CB_Rrw7Tw</td>\n",
       "      <td>Steakhouses, Restaurants, Cajun/Creole</td>\n",
       "      <td>Las Vegas</td>\n",
       "      <td>Delmonico Steakhouse</td>\n",
       "      <td>1546</td>\n",
       "      <td>4.0</td>\n",
       "      <td>0</td>\n",
       "      <td>2016-08-22</td>\n",
       "      <td>1</td>\n",
       "      <td>1nK5w0VNfDlnR3bOz13dJQ</td>\n",
       "      <td>5</td>\n",
       "      <td>My husband and I went there for lunch on a Sat...</td>\n",
       "      <td>1</td>\n",
       "      <td>gm8nNoA3uB4In5o_Hxpq3g</td>\n",
       "      <td>2212</td>\n",
       "    </tr>\n",
       "    <tr>\n",
       "      <th>3</th>\n",
       "      <td>--9e1ONYQuAa-CB_Rrw7Tw</td>\n",
       "      <td>Steakhouses, Restaurants, Cajun/Creole</td>\n",
       "      <td>Las Vegas</td>\n",
       "      <td>Delmonico Steakhouse</td>\n",
       "      <td>1546</td>\n",
       "      <td>4.0</td>\n",
       "      <td>0</td>\n",
       "      <td>2016-09-13</td>\n",
       "      <td>0</td>\n",
       "      <td>N1Z93BthdJ7FT2p5S22jIA</td>\n",
       "      <td>3</td>\n",
       "      <td>Went for a nice anniversary dinner. Researched...</td>\n",
       "      <td>0</td>\n",
       "      <td>CEtidlXNyQzgJSdF1ubPFw</td>\n",
       "      <td>860</td>\n",
       "    </tr>\n",
       "    <tr>\n",
       "      <th>4</th>\n",
       "      <td>--9e1ONYQuAa-CB_Rrw7Tw</td>\n",
       "      <td>Steakhouses, Restaurants, Cajun/Creole</td>\n",
       "      <td>Las Vegas</td>\n",
       "      <td>Delmonico Steakhouse</td>\n",
       "      <td>1546</td>\n",
       "      <td>4.0</td>\n",
       "      <td>0</td>\n",
       "      <td>2016-08-08</td>\n",
       "      <td>0</td>\n",
       "      <td>ir-EVhHyWna7KqYWtj660g</td>\n",
       "      <td>5</td>\n",
       "      <td>Hands down the best meal and service I have ev...</td>\n",
       "      <td>0</td>\n",
       "      <td>9_BhDyzJYf2JwTD9TyXJ4g</td>\n",
       "      <td>312</td>\n",
       "    </tr>\n",
       "    <tr>\n",
       "      <th>5</th>\n",
       "      <td>--9e1ONYQuAa-CB_Rrw7Tw</td>\n",
       "      <td>Steakhouses, Restaurants, Cajun/Creole</td>\n",
       "      <td>Las Vegas</td>\n",
       "      <td>Delmonico Steakhouse</td>\n",
       "      <td>1546</td>\n",
       "      <td>4.0</td>\n",
       "      <td>0</td>\n",
       "      <td>2017-05-20</td>\n",
       "      <td>0</td>\n",
       "      <td>Pnkrj90xfykhHyo4BSFRsw</td>\n",
       "      <td>5</td>\n",
       "      <td>ABSOLUTE MUST IN VEGAS! Loved everything my bo...</td>\n",
       "      <td>0</td>\n",
       "      <td>cZVQGCZ_fHtTdfiyGVJPdg</td>\n",
       "      <td>124</td>\n",
       "    </tr>\n",
       "    <tr>\n",
       "      <th>6</th>\n",
       "      <td>--9e1ONYQuAa-CB_Rrw7Tw</td>\n",
       "      <td>Steakhouses, Restaurants, Cajun/Creole</td>\n",
       "      <td>Las Vegas</td>\n",
       "      <td>Delmonico Steakhouse</td>\n",
       "      <td>1546</td>\n",
       "      <td>4.0</td>\n",
       "      <td>0</td>\n",
       "      <td>2016-06-13</td>\n",
       "      <td>0</td>\n",
       "      <td>sRXpmPl7q9JFXehiJuBUlA</td>\n",
       "      <td>5</td>\n",
       "      <td>The most amazing French onion soup I've ever h...</td>\n",
       "      <td>0</td>\n",
       "      <td>rhP3yu4Sxpj9OXgeY0VpLg</td>\n",
       "      <td>243</td>\n",
       "    </tr>\n",
       "    <tr>\n",
       "      <th>7</th>\n",
       "      <td>--9e1ONYQuAa-CB_Rrw7Tw</td>\n",
       "      <td>Steakhouses, Restaurants, Cajun/Creole</td>\n",
       "      <td>Las Vegas</td>\n",
       "      <td>Delmonico Steakhouse</td>\n",
       "      <td>1546</td>\n",
       "      <td>4.0</td>\n",
       "      <td>0</td>\n",
       "      <td>2017-12-30</td>\n",
       "      <td>0</td>\n",
       "      <td>Oeh7e6U2xaDQI9L9i4x_Gw</td>\n",
       "      <td>2</td>\n",
       "      <td>I had high hopes for Delmonico's Steakhouse in...</td>\n",
       "      <td>0</td>\n",
       "      <td>li2cBZl60vgqihDJJG7jeA</td>\n",
       "      <td>741</td>\n",
       "    </tr>\n",
       "    <tr>\n",
       "      <th>8</th>\n",
       "      <td>--9e1ONYQuAa-CB_Rrw7Tw</td>\n",
       "      <td>Steakhouses, Restaurants, Cajun/Creole</td>\n",
       "      <td>Las Vegas</td>\n",
       "      <td>Delmonico Steakhouse</td>\n",
       "      <td>1546</td>\n",
       "      <td>4.0</td>\n",
       "      <td>0</td>\n",
       "      <td>2016-10-08</td>\n",
       "      <td>0</td>\n",
       "      <td>A4n462mLrximfNPPebCSsw</td>\n",
       "      <td>4</td>\n",
       "      <td>A first class steak house and pricey. Everythi...</td>\n",
       "      <td>0</td>\n",
       "      <td>zGipc5uOJrejX6KkUsSNpA</td>\n",
       "      <td>530</td>\n",
       "    </tr>\n",
       "    <tr>\n",
       "      <th>9</th>\n",
       "      <td>--9e1ONYQuAa-CB_Rrw7Tw</td>\n",
       "      <td>Steakhouses, Restaurants, Cajun/Creole</td>\n",
       "      <td>Las Vegas</td>\n",
       "      <td>Delmonico Steakhouse</td>\n",
       "      <td>1546</td>\n",
       "      <td>4.0</td>\n",
       "      <td>0</td>\n",
       "      <td>2016-02-10</td>\n",
       "      <td>0</td>\n",
       "      <td>UxFpgng8dPMWOj99653k5Q</td>\n",
       "      <td>5</td>\n",
       "      <td>Truly Fantastic!  Best Steak ever. Service was...</td>\n",
       "      <td>0</td>\n",
       "      <td>aVOGlN9fZ-BXcbtj6dbf0g</td>\n",
       "      <td>152</td>\n",
       "    </tr>\n",
       "  </tbody>\n",
       "</table>\n",
       "</div>"
      ],
      "text/plain": [
       "              business_id                              categories       city  \\\n",
       "0  --9e1ONYQuAa-CB_Rrw7Tw  Steakhouses, Restaurants, Cajun/Creole  Las Vegas   \n",
       "1  --9e1ONYQuAa-CB_Rrw7Tw  Steakhouses, Restaurants, Cajun/Creole  Las Vegas   \n",
       "2  --9e1ONYQuAa-CB_Rrw7Tw  Steakhouses, Restaurants, Cajun/Creole  Las Vegas   \n",
       "3  --9e1ONYQuAa-CB_Rrw7Tw  Steakhouses, Restaurants, Cajun/Creole  Las Vegas   \n",
       "4  --9e1ONYQuAa-CB_Rrw7Tw  Steakhouses, Restaurants, Cajun/Creole  Las Vegas   \n",
       "5  --9e1ONYQuAa-CB_Rrw7Tw  Steakhouses, Restaurants, Cajun/Creole  Las Vegas   \n",
       "6  --9e1ONYQuAa-CB_Rrw7Tw  Steakhouses, Restaurants, Cajun/Creole  Las Vegas   \n",
       "7  --9e1ONYQuAa-CB_Rrw7Tw  Steakhouses, Restaurants, Cajun/Creole  Las Vegas   \n",
       "8  --9e1ONYQuAa-CB_Rrw7Tw  Steakhouses, Restaurants, Cajun/Creole  Las Vegas   \n",
       "9  --9e1ONYQuAa-CB_Rrw7Tw  Steakhouses, Restaurants, Cajun/Creole  Las Vegas   \n",
       "\n",
       "                   name  review_count  avg_stars  cool        date  funny  \\\n",
       "0  Delmonico Steakhouse          1546        4.0     0  2017-02-14      0   \n",
       "1  Delmonico Steakhouse          1546        4.0     0  2017-12-04      0   \n",
       "2  Delmonico Steakhouse          1546        4.0     0  2016-08-22      1   \n",
       "3  Delmonico Steakhouse          1546        4.0     0  2016-09-13      0   \n",
       "4  Delmonico Steakhouse          1546        4.0     0  2016-08-08      0   \n",
       "5  Delmonico Steakhouse          1546        4.0     0  2017-05-20      0   \n",
       "6  Delmonico Steakhouse          1546        4.0     0  2016-06-13      0   \n",
       "7  Delmonico Steakhouse          1546        4.0     0  2017-12-30      0   \n",
       "8  Delmonico Steakhouse          1546        4.0     0  2016-10-08      0   \n",
       "9  Delmonico Steakhouse          1546        4.0     0  2016-02-10      0   \n",
       "\n",
       "                review_id  stars  \\\n",
       "0  VETXTwMw6qxzOVDlXfe6Tg      5   \n",
       "1  S8-8uZ7fa5YbjnEtaW15ng      5   \n",
       "2  1nK5w0VNfDlnR3bOz13dJQ      5   \n",
       "3  N1Z93BthdJ7FT2p5S22jIA      3   \n",
       "4  ir-EVhHyWna7KqYWtj660g      5   \n",
       "5  Pnkrj90xfykhHyo4BSFRsw      5   \n",
       "6  sRXpmPl7q9JFXehiJuBUlA      5   \n",
       "7  Oeh7e6U2xaDQI9L9i4x_Gw      2   \n",
       "8  A4n462mLrximfNPPebCSsw      4   \n",
       "9  UxFpgng8dPMWOj99653k5Q      5   \n",
       "\n",
       "                                                text  useful  \\\n",
       "0  went for dinner tonight. Amazing my husband ha...       0   \n",
       "1  This was an amazing dinning experience! ORDER ...       0   \n",
       "2  My husband and I went there for lunch on a Sat...       1   \n",
       "3  Went for a nice anniversary dinner. Researched...       0   \n",
       "4  Hands down the best meal and service I have ev...       0   \n",
       "5  ABSOLUTE MUST IN VEGAS! Loved everything my bo...       0   \n",
       "6  The most amazing French onion soup I've ever h...       0   \n",
       "7  I had high hopes for Delmonico's Steakhouse in...       0   \n",
       "8  A first class steak house and pricey. Everythi...       0   \n",
       "9  Truly Fantastic!  Best Steak ever. Service was...       0   \n",
       "\n",
       "                  user_id  text length  \n",
       "0  ymlnR8UeFvB4FZL56tCZsA          252  \n",
       "1  9pSSL6X6lFpY3FCRLEH3og           86  \n",
       "2  gm8nNoA3uB4In5o_Hxpq3g         2212  \n",
       "3  CEtidlXNyQzgJSdF1ubPFw          860  \n",
       "4  9_BhDyzJYf2JwTD9TyXJ4g          312  \n",
       "5  cZVQGCZ_fHtTdfiyGVJPdg          124  \n",
       "6  rhP3yu4Sxpj9OXgeY0VpLg          243  \n",
       "7  li2cBZl60vgqihDJJG7jeA          741  \n",
       "8  zGipc5uOJrejX6KkUsSNpA          530  \n",
       "9  aVOGlN9fZ-BXcbtj6dbf0g          152  "
      ]
     },
     "execution_count": 45,
     "metadata": {},
     "output_type": "execute_result"
    }
   ],
   "source": [
    "df.head(10)"
   ]
  },
  {
   "cell_type": "code",
   "execution_count": 51,
   "metadata": {},
   "outputs": [
    {
     "data": {
      "text/plain": [
       "Text(0,0.5,'counts')"
      ]
     },
     "execution_count": 51,
     "metadata": {},
     "output_type": "execute_result"
    },
    {
     "data": {
      "image/png": "[encoded data removed]",
      "text/plain": [
       "<Figure size 720x360 with 1 Axes>"
      ]
     },
     "metadata": {},
     "output_type": "display_data"
    }
   ],
   "source": [
    "h=df['avg_stars'].value_counts().plot(kind='bar', align='center',width=0.5,figsize=(10,5))\n",
    "plt.xlabel('avg_stars', fontdict=None, labelpad=None)\n",
    "plt.ylabel('counts', fontdict=None, labelpad=None)"
   ]
  },
  {
   "cell_type": "code",
   "execution_count": 59,
   "metadata": {},
   "outputs": [
    {
     "data": {
      "text/plain": [
       "Text(0.5,0,'text length')"
      ]
     },
     "execution_count": 59,
     "metadata": {},
     "output_type": "execute_result"
    },
    {
     "data": {
      "image/png": "[encoded data removed]",
      "text/plain": [
       "<Figure size 720x360 with 1 Axes>"
      ]
     },
     "metadata": {},
     "output_type": "display_data"
    }
   ],
   "source": [
    "df['text length'].plot.hist(bins=50,label='text length',figsize=(10,5))\n",
    "plt.xlabel('text length', fontdict=None, labelpad=None)"
   ]
  },
  {
   "cell_type": "code",
   "execution_count": 60,
   "metadata": {},
   "outputs": [
    {
     "data": {
      "text/plain": [
       "count    488769.000000\n",
       "mean        515.782525\n",
       "std         492.901409\n",
       "min           1.000000\n",
       "25%         204.000000\n",
       "50%         356.000000\n",
       "75%         647.000000\n",
       "max        5080.000000\n",
       "Name: text length, dtype: float64"
      ]
     },
     "execution_count": 60,
     "metadata": {},
     "output_type": "execute_result"
    }
   ],
   "source": [
    "df['text length'].describe()"
   ]
  },
  {
   "cell_type": "code",
   "execution_count": 72,
   "metadata": {},
   "outputs": [
    {
     "name": "stdout",
     "output_type": "stream",
     "text": [
      "[3] ['\"Just let me go we\\'ll meet again soon\\r\\n\"Now wait, wait, wait for me\\r\\n\"Please hang around\\r\\n\"I\\'ll see you when I fall asleep\"\\r\\n\\r\\n-------------------------------------\\r\\n\\r\\nIn A Sentence\\x99\\r\\nA faux-Mexican chain conveniently located in the far-North neighbourhood of Centennial. (Winter is Coming®.)\\r\\n\\r\\nQuick Review\\x99\\r\\n+ Chicken, pork*, steak, soy, vegetarian burritos/bowls, et cetera. They run through their queues fast as hell now (post-2015 scandal). (*Overheard today: \"is carnitas pork?\" Heh.) \\r\\n\\r\\n- Nickel and diming: 2$ upcharge for guacamole? Bruv, an USDA-certified organic avocado is a buck at Smith\\'s across the lot. \\r\\n\\r\\nEmployee of Excellence\\x99\\r\\n+ The cashier/till employee\\'s right-hand woman, typically the conduit between the Ford assembly line and the cashier, who noticed tonight that I had left my fancy phone on the wooding that frames the till area after having placed it there to get my free burrito offer scanned. \\r\\n\\r\\n-------------------------------------\\r\\n\\r\\nI\\'m the undisputed Duke of this establishment -- dusts crown -- therefore I suppose I will review. (Flagtrolls, get ready to flag. Morons at HQ, get ready to take it down.) \\r\\n\\r\\nThe first time I patronised the Chipotle Mexican Grill® chain was a decade ago in the U.S. midwest. Burritos in Minnesota. There is a difference between choosing to get faux-Mexican in a location where no authentic Mexican exists and doing so in Nevada, where there are countless authentic choices to select from. I stopped coming because of a) SYSCO delivery I witnessed at another valley Chipotle location; and b) there is a Roberto\\'s* on the other end of this same block (inside Terrible\\'s®).\\r\\n\\r\\n(*That is not remotely authentic either; however, it is closer on the Mejico spectrum.)\\r\\n\\r\\nIn any case, something always is promoted to bring us back. Marketing geniuses aren\\'t paid the big bucks to sit around and do nothing (all of the time). So, a couple of free burritos will bring me back, for the mere convenience. \\r\\n\\r\\nObservations since my recent return \\r\\n+ They are fast as shit now on the assembly line. They are moving, moving, moving. In and out in minutes. Not certain if it is exclusive to this location, or if it is a chain-wide mandate. They\\'re fast here. Faster than fast food. Seriously. \\r\\n\\r\\n+ The optional gratuity jar seems plenty of plentiful now during the promotion days. Good for these employees. They deserve it with how fast they are running through the customers. \\r\\n\\r\\n+ There are not that many customers here as before. \\r\\n\\r\\nFood\\r\\nA-OK. Adequate enough. I get the chicken because I assume I cannot be easily killed with chicken, or at least have less of a probability. I always get lettuce though and it will be probably what kills me in the end: greens. (Thanks vegans.)\\r\\n\\r\\nFirst: ask for the burrito. I think you can double-wrap at no additional cost, although I have never done it. (I have heard as well of the possibility of a quesadilla wrapped burrito from a particularly gluttonous Crossfitter from Kansas City, MO.)\\r\\nSecond: white rice or brown rice. I always pick brown because it is a better colour. (Technically, white isn\\'t event a colour [neither is black.])\\r\\nThird: black or pinto beans. I always select pinto because it is more fun to say. \\r\\nFourth: type of meat. I select pollo. \\r\\nFifth: pico. I always select pico de gallo. If you can\\'t pronounce it correctly, you might be uneducated. Return to primary school.\\r\\nSixth: crema, queso, no guac -- NO GUAC! -- y lechuga. (Translated: sour creme, cheese, lettuce.) \\r\\nSeventh: clarify if you wish to dine-in or eat out. Pay. Tip. Go home. \\r\\n\\r\\n[777.]\\r\\n\\r\\nService\\r\\nI\\'m a fan. It used to be slow in the past; however, they whipped them into shape. No lollygagging here! This ain\\'t Burger King®! Promote the till winglady at once upon a slot opening for ascension if she is not already the manager.\\r\\n\\r\\nAmbiance\\r\\nA-OK. They all look the same; this one is clean. More than adequate*.\\r\\n(*Music could be better though. Where are the corridos, coño?)\\r\\n\\r\\nParking\\r\\nA-OK. It\\'s free yet scarce anywhere near the restaurant on most nights. I park to the south or west in the lot and just walk. There is always parking along Pizza Hut® (because it\\'s Pizza Hut). Walking is probably good for you.\\r\\n\\r\\nPro Tip: the free menu item offer was available for a day -- I think -- and good for the month. Apologies if this tip is dated and not useful to you at this time. (Isn\\'t that the case with all tips?)\\r\\n\\r\\nPro Tip: the restrooms are around the back a la izquierda. \\r\\n\\r\\nPro Tip: this is definitely the smallest Chipotle location I have ever been in. \\r\\n\\r\\nFinal Word\\x99\\r\\nI am not sure if I am back-back, but they sure got me back at least for a couple of visits. Dropping a couple of dollars in the tip jar and eating essentially free burritos is good para el alma. \\r\\n\\r\\n-------------------------------------\\r\\n\\r\\nTourists\\r\\nNone here: it\\'s far from the strip.\\r\\n\\r\\nKids\\r\\nGood for \\'em+. (+Teach them early how to say pico.)\\r\\n\\r\\nDogs\\r\\nLeave them at home unless they are service-providing.\\r\\n\\r\\n-------------------------------------\\r\\n\\r\\nRating: Three-stars, \"A-OK.\" [5000 max limit.]']\n"
     ]
    }
   ],
   "source": [
    "print(df.loc[df['text length']==5080]['stars'].values, df.loc[df['text length']==5080]['text'].values,)"
   ]
  },
  {
   "cell_type": "code",
   "execution_count": 70,
   "metadata": {},
   "outputs": [
    {
     "data": {
      "text/plain": [
       "<seaborn.axisgrid.FacetGrid at 0x19713410a90>"
      ]
     },
     "execution_count": 70,
     "metadata": {},
     "output_type": "execute_result"
    },
    {
     "data": {
      "image/png": "[encoded data removed]",
      "text/plain": [
       "<Figure size 648x432 with 5 Axes>"
      ]
     },
     "metadata": {},
     "output_type": "display_data"
    }
   ],
   "source": [
    "# text length hist plot\n",
    "g = sns.FacetGrid(data=df, col='stars',col_wrap=3)\n",
    "g.map(plt.hist, 'text length', bins=50)"
   ]
  },
  {
   "cell_type": "code",
   "execution_count": 140,
   "metadata": {},
   "outputs": [
    {
     "data": {
      "image/png": "[encoded data removed]",
      "text/plain": [
       "<Figure size 432x288 with 1 Axes>"
      ]
     },
     "metadata": {},
     "output_type": "display_data"
    }
   ],
   "source": [
    "sns.boxplot(x='stars', y='text length', data=df)\n",
    "plt.savefig('Fig_boxplot_stars.pdf')"
   ]
  },
  {
   "cell_type": "code",
   "execution_count": 141,
   "metadata": {},
   "outputs": [
    {
     "data": {
      "image/png": "[encoded data removed]",
      "text/plain": [
       "<Figure size 648x648 with 9 Axes>"
      ]
     },
     "metadata": {},
     "output_type": "display_data"
    }
   ],
   "source": [
    "g = sns.FacetGrid(data=df, col='avg_stars',col_wrap=3)\n",
    "g.map(plt.hist, 'text length', bins=50)\n",
    "plt.savefig('Fig_hist_avg_tars.pdf')"
   ]
  },
  {
   "cell_type": "markdown",
   "metadata": {},
   "source": [
    "#### *rating is a direct meaure of customer's satisfaction, I am interested in high rating (4.5 stars and above) and imperfect (1-4.5 stars) rating"
   ]
  },
  {
   "cell_type": "code",
   "execution_count": 78,
   "metadata": {},
   "outputs": [],
   "source": [
    "# Make a column and take the values, save to a variable named \"target\"\n",
    "df['target']=[1 if element >= 4.5 else 0 for element in df['stars']]\n",
    "target=df['target']"
   ]
  },
  {
   "cell_type": "markdown",
   "metadata": {},
   "source": [
    "#### *Check statistic of the target variable"
   ]
  },
  {
   "cell_type": "code",
   "execution_count": 84,
   "metadata": {},
   "outputs": [
    {
     "data": {
      "text/plain": [
       "count    488769.000000\n",
       "mean          0.486510\n",
       "std           0.499818\n",
       "min           0.000000\n",
       "25%           0.000000\n",
       "50%           0.000000\n",
       "75%           1.000000\n",
       "max           1.000000\n",
       "Name: target, dtype: float64"
      ]
     },
     "execution_count": 84,
     "metadata": {},
     "output_type": "execute_result"
    }
   ],
   "source": [
    "# To be implemented\n",
    "df['target'].describe()"
   ]
  },
  {
   "cell_type": "code",
   "execution_count": 92,
   "metadata": {},
   "outputs": [
    {
     "name": "stdout",
     "output_type": "stream",
     "text": [
      "10/27/2016-I had my birthday dinner here and it was worth the splurge.  I have to say something about the décor - it was too plain and sterile and I expected a little more character from this establishment.  I would have added some wood paneling or some framed mirrors.  But the food was worth it.  We ordered the New Orleans BBQ Shrimp, Butternut Squash Ravioli, Traditional New Orleans Gumbo, and of course the 16 oz Rib Eye steak.  Our side dishes included the Country Smashed Potato, Delmonico Creamed Spinach, Buttered Fresh Asparagus, and Sauteed Garlic Mushrooms.  All the dishes we ordered were delicious.  Our steak was medium rare and it was sooo good.  The meat was tender with the right amount of fatty goodness.  My favorite sides were the asparagus (cooked just right, not over or under cooked) and the mushrooms.  The creamed spinach was a little too salty for me.  They added a nice touch to my birthday by serving complimentary appetizer and dessert (mango sorbet) (488769,)\n"
     ]
    }
   ],
   "source": [
    "# Take a look at the review\n",
    "documents=df['text'].values\n",
    "print(documents[10],documents.shape)"
   ]
  },
  {
   "cell_type": "markdown",
   "metadata": {},
   "source": [
    "## Create training dataset and test dataset"
   ]
  },
  {
   "cell_type": "code",
   "execution_count": 76,
   "metadata": {},
   "outputs": [
    {
     "name": "stderr",
     "output_type": "stream",
     "text": [
      "C:\\Users\\jenny\\Anaconda3\\lib\\site-packages\\sklearn\\cross_validation.py:41: DeprecationWarning: This module was deprecated in version 0.18 in favor of the model_selection module into which all the refactored classes and functions are moved. Also note that the interface of the new CV iterators are different from that of this module. This module will be removed in 0.20.\n",
      "  \"This module will be removed in 0.20.\", DeprecationWarning)\n"
     ]
    }
   ],
   "source": [
    "from sklearn.cross_validation import train_test_split"
   ]
  },
  {
   "cell_type": "code",
   "execution_count": 94,
   "metadata": {},
   "outputs": [],
   "source": [
    "# Documents is your X, target is your y\n",
    "# Now split the data to training set and test set\n",
    "documents_train, documents_test, target_train, target_test = train_test_split(documents, target, test_size=0.3, random_state=0)"
   ]
  },
  {
   "cell_type": "code",
   "execution_count": 95,
   "metadata": {},
   "outputs": [
    {
     "data": {
      "text/plain": [
       "(342138,)"
      ]
     },
     "execution_count": 95,
     "metadata": {},
     "output_type": "execute_result"
    }
   ],
   "source": [
    "documents_train.shape\n"
   ]
  },
  {
   "cell_type": "markdown",
   "metadata": {},
   "source": [
    "## NLP representation of the documents"
   ]
  },
  {
   "cell_type": "code",
   "execution_count": 81,
   "metadata": {},
   "outputs": [],
   "source": [
    "from sklearn.feature_extraction.text import TfidfVectorizer"
   ]
  },
  {
   "cell_type": "code",
   "execution_count": 82,
   "metadata": {},
   "outputs": [
    {
     "data": {
      "text/plain": [
       "sklearn.feature_extraction.text.TfidfVectorizer"
      ]
     },
     "execution_count": 82,
     "metadata": {},
     "output_type": "execute_result"
    }
   ],
   "source": [
    "# Create TfidfVectorizer, and name it vectorizer\n",
    "vectorizer = TfidfVectorizer(stop_words='english', max_features=2000)\n",
    "type(vectorizer)"
   ]
  },
  {
   "cell_type": "code",
   "execution_count": 96,
   "metadata": {},
   "outputs": [],
   "source": [
    "# Train the model with the training data\n",
    "X_train = vectorizer.fit_transform(documents_train).toarray()\n",
    "words = vectorizer.get_feature_names()"
   ]
  },
  {
   "cell_type": "code",
   "execution_count": 85,
   "metadata": {},
   "outputs": [
    {
     "data": {
      "text/plain": [
       "['00',\n",
       " '10',\n",
       " '100',\n",
       " '11',\n",
       " '12',\n",
       " '13',\n",
       " '14',\n",
       " '15',\n",
       " '16',\n",
       " '17',\n",
       " '18',\n",
       " '19',\n",
       " '1st',\n",
       " '20',\n",
       " '2016',\n",
       " '2017',\n",
       " '21',\n",
       " '22',\n",
       " '24',\n",
       " '25',\n",
       " '2nd',\n",
       " '30',\n",
       " '30pm',\n",
       " '35',\n",
       " '3rd',\n",
       " '40',\n",
       " '45',\n",
       " '50',\n",
       " '60',\n",
       " '75',\n",
       " '80',\n",
       " '90',\n",
       " '95',\n",
       " '99',\n",
       " 'able',\n",
       " 'absolute',\n",
       " 'absolutely',\n",
       " 'accommodate',\n",
       " 'accommodating',\n",
       " 'actual',\n",
       " 'actually',\n",
       " 'add',\n",
       " 'added',\n",
       " 'adding',\n",
       " 'addition',\n",
       " 'additional',\n",
       " 'admit',\n",
       " 'adults',\n",
       " 'advance',\n",
       " 'affordable',\n",
       " 'afternoon',\n",
       " 'aged',\n",
       " 'ago',\n",
       " 'agree',\n",
       " 'agreed',\n",
       " 'ahead',\n",
       " 'ahi',\n",
       " 'aioli',\n",
       " 'air',\n",
       " 'airport',\n",
       " 'al',\n",
       " 'alcohol',\n",
       " 'alfredo',\n",
       " 'allow',\n",
       " 'allowed',\n",
       " 'almond',\n",
       " 'alright',\n",
       " 'amazing',\n",
       " 'amazingly',\n",
       " 'ambiance',\n",
       " 'ambience',\n",
       " 'american',\n",
       " 'anniversary',\n",
       " 'annoyed',\n",
       " 'annoying',\n",
       " 'answer',\n",
       " 'answered',\n",
       " 'anymore',\n",
       " 'anytime',\n",
       " 'anyways',\n",
       " 'apart',\n",
       " 'apologize',\n",
       " 'apologized',\n",
       " 'apology',\n",
       " 'app',\n",
       " 'apparently',\n",
       " 'appetite',\n",
       " 'appetizer',\n",
       " 'appetizers',\n",
       " 'apple',\n",
       " 'appreciate',\n",
       " 'appreciated',\n",
       " 'apps',\n",
       " 'area',\n",
       " 'aren',\n",
       " 'aria',\n",
       " 'arrive',\n",
       " 'arrived',\n",
       " 'art',\n",
       " 'asada',\n",
       " 'asian',\n",
       " 'aside',\n",
       " 'ask',\n",
       " 'asked',\n",
       " 'asking',\n",
       " 'asparagus',\n",
       " 'ass',\n",
       " 'ate',\n",
       " 'atmosphere',\n",
       " 'attention']"
      ]
     },
     "execution_count": 85,
     "metadata": {},
     "output_type": "execute_result"
    }
   ],
   "source": [
    "words[0:110]"
   ]
  },
  {
   "cell_type": "code",
   "execution_count": 87,
   "metadata": {},
   "outputs": [],
   "source": [
    "# Use the trained model to transform your test data\n",
    "y_test = target_test\n",
    "X_test = vectorizer.transform(documents_test)"
   ]
  },
  {
   "cell_type": "code",
   "execution_count": 97,
   "metadata": {},
   "outputs": [
    {
     "name": "stdout",
     "output_type": "stream",
     "text": [
      "(342138, 2000) (146631, 2000)\n"
     ]
    }
   ],
   "source": [
    "# Get the vocab of the tfidf\n",
    "print(X_train.shape,X_test.shape)"
   ]
  },
  {
   "cell_type": "markdown",
   "metadata": {},
   "source": [
    "## Similar review search engine"
   ]
  },
  {
   "cell_type": "code",
   "execution_count": 98,
   "metadata": {},
   "outputs": [],
   "source": [
    "import numpy as np\n",
    "\n",
    "# Build functions to return the top search values \n",
    "\n",
    "def get_top_values(lst, n, labels):\n",
    "    '''\n",
    "    INPUT: LIST, INTEGER, LIST\n",
    "    OUTPUT: LIST\n",
    "\n",
    "    Given a list of values, find the indices with the highest n values.\n",
    "    Return the labels for each of these indices.\n",
    "\n",
    "    e.g.\n",
    "    lst = [7, 3, 2, 4, 1]\n",
    "    n = 2\n",
    "    labels = [\"cat\", \"dog\", \"mouse\", \"pig\", \"rabbit\"]\n",
    "    output: [\"cat\", \"pig\"]\n",
    "    '''\n",
    "    return [labels[i] for i in np.argsort(lst)[::-1][:n]]  # np.argsort by default sorts values in ascending order\n"
   ]
  },
  {
   "cell_type": "markdown",
   "metadata": {},
   "source": [
    "### Top frequent 20 words in the training review set"
   ]
  },
  {
   "cell_type": "code",
   "execution_count": 25,
   "metadata": {},
   "outputs": [
    {
     "name": "stdout",
     "output_type": "stream",
     "text": [
      "top 20 by average tf-idf\n",
      "['food', 'great', 'good', 'place', 'service', 'time', 'just', 'like', 'best', 'vegas', 'amazing', 'really', 'delicious', 'chicken', 'love', 'ordered', 'restaurant', 'definitely', 'order', 'got']\n"
     ]
    }
   ],
   "source": [
    "avg = np.sum(vectors, axis=0) \n",
    "print(\"top 20 by average tf-idf\")\n",
    "print(get_top_values(avg, 20, words))\n"
   ]
  },
  {
   "cell_type": "markdown",
   "metadata": {},
   "source": [
    "## Build a search engine to find similar reviews"
   ]
  },
  {
   "cell_type": "code",
   "execution_count": 103,
   "metadata": {},
   "outputs": [],
   "source": [
    "# Use cosine similarity\n",
    "from sklearn.metrics.pairwise import cosine_similarity"
   ]
  },
  {
   "cell_type": "code",
   "execution_count": 99,
   "metadata": {},
   "outputs": [
    {
     "name": "stdout",
     "output_type": "stream",
     "text": [
      "[\"I never even went here (went to a neighboring biz) but somehow they found my email address and solicited a review from me. And then didn't reply to my message when I contacted them about it. Well, here's your review! That is just creepy, stalking behavior from your business and completely uncalled for. I still want to know how you got my location data and email address.\"]\n"
     ]
    }
   ],
   "source": [
    "# Draw an arbitrary review from test (unseen in training) documents\n",
    "some_random_number = 42\n",
    "search_query = documents_test[some_random_number]\n",
    "search_query = [search_query] # Need to be put into a list-like format\n",
    "print(search_query)"
   ]
  },
  {
   "cell_type": "code",
   "execution_count": 101,
   "metadata": {},
   "outputs": [
    {
     "name": "stdout",
     "output_type": "stream",
     "text": [
      "[[0. 0. 0. ... 0. 0. 0.]] (1, 2000)\n"
     ]
    }
   ],
   "source": [
    "# Transform the drawn review(s) to vector(s)\n",
    "search_query_vectorized = vectorizer.transform(search_query).toarray() # search_query needs to be a list format! [search_query]\n",
    "print(search_query_vectorized,search_query_vectorized.shape)"
   ]
  },
  {
   "cell_type": "code",
   "execution_count": 104,
   "metadata": {},
   "outputs": [],
   "source": [
    "simi_score_search=cosine_similarity(search_query_vectorized,X_train)"
   ]
  },
  {
   "cell_type": "code",
   "execution_count": 110,
   "metadata": {},
   "outputs": [
    {
     "data": {
      "text/plain": [
       "342138"
      ]
     },
     "execution_count": 110,
     "metadata": {},
     "output_type": "execute_result"
    }
   ],
   "source": [
    "len(simi_score_search[0])"
   ]
  },
  {
   "cell_type": "code",
   "execution_count": 111,
   "metadata": {},
   "outputs": [],
   "source": [
    "#find the top 5 silimar reviews\n",
    "n_rev=5\n",
    "returned_reviews=get_top_values(simi_score_search[0],n_rev,documents_train.tolist())"
   ]
  },
  {
   "cell_type": "code",
   "execution_count": 135,
   "metadata": {},
   "outputs": [],
   "source": [
    "returned_rating=[df.loc[df['text']==returned_reviews[i]]['stars'].values[0] for i in range(n_rev)]"
   ]
  },
  {
   "cell_type": "code",
   "execution_count": 136,
   "metadata": {},
   "outputs": [],
   "source": [
    "returned_review_rating=[[returned_rating[i],returned_reviews[i]] for i in range(n_rev)]"
   ]
  },
  {
   "cell_type": "code",
   "execution_count": 137,
   "metadata": {},
   "outputs": [
    {
     "name": "stdout",
     "output_type": "stream",
     "text": [
      "[[5, \"Left a mediocre review awhile back & finally got around to going again. To be honest I was nervous because I was contacted by Omar, the manager because of my review (he was very polite & wanted to prevent the situation from happening again) so it shows that they care about their customer's experience. Very genuine people! When I went in I sat at the bar again & was automatically greeted by Ruben. I was super awkward since it turned out he recognized me from my review  But he was very chill & attentive. You can tell he was genuine the entire time. When Omar contacted me he offered me a free drink next time I came in but I personally didn't wanna bring that up  I didn't want anyone to know I wrote that review xD But nonetheless, Ruben comped my drink. I never even brought it up so I was taken by surprise. SO FUCKING SWEET! He apologized for my last experience which I didn't expect at all! Definitely give these people a try! They're worth it! P.S. I had the veggie bagel this time, AMAZING.\"], [1, 'Just so people know reading this review I didn\\'t want to give this business one star.  They don\\'t deserve but Yelp gave me no choice to hit only one star.  Anyways, we went to eat here because the sign says it is the \"best kabob\".  The only problem about the sign outside is that their sign is completely wrong and I cannot believe they will make this claim about their food.  I\\'m sure the coffee is better but me and my wife did not try the other food or drinks.  How can you suggest to recook the beef kabob if they didn\\'t cook throughly?  They did take one of the kabob off the bill but we just paid and left, because this is ridiculous business.  I would read reviews of people who have went there before going here, because you would not want to go here for sure.  We left to a different restaurant that has \"The Best Kabobs\" in Las Vegas.  I\\'m sure if you been there you would know their name and location.  Otherwise of you don\\'t know the place and never been stay away from here.  Message me for the name of that Best Kabob place to save your money, time and stomach from aching later on.  I would suggest they go another restaurant to take their business or close down the food area.  But this is the choice of the business and that\\'s my opinion.  Good luck and I hope you make an effort to do something or save yourself from bankruptcy.  Don\\'t expect us to come back ever again.'], [4, 'This review is long overdue. All I remember is that I had a business lunch here with a colleague and the burger was amazing.'], [1, \"Eh not a fan.  I don't even want to review a full on paragraph about it.  Disappointed each time.  Not satisified.\"], [1, \"This place is poor in service. I went there and there wasn't a lot of people but the service was still slow. The place run out of food, the bins were empty... the place was clean enough but still I was not happy leaving that place \\r\\n\\r\\nDerek, I did not put that review so you can send me free stuff and that is supposed to shut me up or write a nicer review, I can buy my own food.... trying to bribe your way out ? Is that how you do your business ? I wrote that so your business will improve, geez !\"]]\n"
     ]
    }
   ],
   "source": [
    "print(returned_review_rating)"
   ]
  },
  {
   "cell_type": "markdown",
   "metadata": {},
   "source": [
    "## Classifying positive/negative review"
   ]
  },
  {
   "cell_type": "markdown",
   "metadata": {},
   "source": [
    "#### Naive-Bayes Classifier"
   ]
  },
  {
   "cell_type": "code",
   "execution_count": 142,
   "metadata": {},
   "outputs": [
    {
     "data": {
      "text/plain": [
       "MultinomialNB(alpha=1.0, class_prior=None, fit_prior=True)"
      ]
     },
     "execution_count": 142,
     "metadata": {},
     "output_type": "execute_result"
    }
   ],
   "source": [
    "# Build a Naive-Bayes Classifier\n",
    "\n",
    "from sklearn.naive_bayes import MultinomialNB\n",
    "\n",
    "model = MultinomialNB()\n",
    "\n",
    "model.fit(X_train, target_train)"
   ]
  },
  {
   "cell_type": "code",
   "execution_count": 161,
   "metadata": {},
   "outputs": [
    {
     "data": {
      "text/plain": [
       "(146631,)"
      ]
     },
     "execution_count": 161,
     "metadata": {},
     "output_type": "execute_result"
    }
   ],
   "source": [
    "target_test.shape"
   ]
  },
  {
   "cell_type": "code",
   "execution_count": 153,
   "metadata": {},
   "outputs": [],
   "source": [
    "target_test_pred=model.predict(X_test)"
   ]
  },
  {
   "cell_type": "code",
   "execution_count": 158,
   "metadata": {},
   "outputs": [
    {
     "data": {
      "text/plain": [
       "0.8075513389334128"
      ]
     },
     "execution_count": 158,
     "metadata": {},
     "output_type": "execute_result"
    }
   ],
   "source": [
    "# Get score for training set\n",
    "model.score(X_train, target_train)"
   ]
  },
  {
   "cell_type": "code",
   "execution_count": 157,
   "metadata": {},
   "outputs": [
    {
     "data": {
      "text/plain": [
       "0.8074145303516992"
      ]
     },
     "execution_count": 157,
     "metadata": {},
     "output_type": "execute_result"
    }
   ],
   "source": [
    "# Get score for test set\n",
    "model.score(X_test, target_test)"
   ]
  },
  {
   "cell_type": "code",
   "execution_count": 184,
   "metadata": {},
   "outputs": [
    {
     "name": "stdout",
     "output_type": "stream",
     "text": [
      "166414 175724\n"
     ]
    }
   ],
   "source": [
    "print(sum(target_train==1),len(target_train)-sum(target_train))"
   ]
  },
  {
   "cell_type": "code",
   "execution_count": 185,
   "metadata": {},
   "outputs": [
    {
     "name": "stdout",
     "output_type": "stream",
     "text": [
      "171101 171037\n"
     ]
    }
   ],
   "source": [
    "print(sum(target_train_pred==1),len(target_train)-sum(target_train_pred))"
   ]
  },
  {
   "cell_type": "markdown",
   "metadata": {},
   "source": [
    "#### Logistic Regression Classifier"
   ]
  },
  {
   "cell_type": "code",
   "execution_count": 162,
   "metadata": {},
   "outputs": [
    {
     "data": {
      "text/plain": [
       "LogisticRegression(C=1.0, class_weight=None, dual=False, fit_intercept=True,\n",
       "          intercept_scaling=1, max_iter=100, multi_class='ovr', n_jobs=1,\n",
       "          penalty='l2', random_state=None, solver='liblinear', tol=0.0001,\n",
       "          verbose=0, warm_start=False)"
      ]
     },
     "execution_count": 162,
     "metadata": {},
     "output_type": "execute_result"
    }
   ],
   "source": [
    "# Build a Logistic Regression Classifier\n",
    "\n",
    "from sklearn.linear_model import LogisticRegression\n",
    "model_1og= LogisticRegression()\n",
    "model_1og.fit(X_train,target_train)"
   ]
  },
  {
   "cell_type": "code",
   "execution_count": 163,
   "metadata": {},
   "outputs": [
    {
     "data": {
      "text/plain": [
       "0.8342014041117911"
      ]
     },
     "execution_count": 163,
     "metadata": {},
     "output_type": "execute_result"
    }
   ],
   "source": [
    "# Get score for training set\n",
    "model_1og.score(X_train, target_train)"
   ]
  },
  {
   "cell_type": "code",
   "execution_count": 164,
   "metadata": {
    "scrolled": true
   },
   "outputs": [
    {
     "data": {
      "text/plain": [
       "0.8306019873014574"
      ]
     },
     "execution_count": 164,
     "metadata": {},
     "output_type": "execute_result"
    }
   ],
   "source": [
    "# Get score for test set\n",
    "model_1og.score(X_test, target_test)"
   ]
  },
  {
   "cell_type": "code",
   "execution_count": 165,
   "metadata": {},
   "outputs": [
    {
     "data": {
      "text/plain": [
       "array([[-1.04143952e+00,  1.06228843e+00,  1.26364661e+00, ...,\n",
       "         1.17322515e+00, -2.89675024e+00,  7.55185028e-04]])"
      ]
     },
     "execution_count": 165,
     "metadata": {},
     "output_type": "execute_result"
    }
   ],
   "source": [
    "model_1og.coef_"
   ]
  },
  {
   "cell_type": "markdown",
   "metadata": {},
   "source": [
    "#### *Look for words that make the positive predictions"
   ]
  },
  {
   "cell_type": "code",
   "execution_count": 168,
   "metadata": {},
   "outputs": [
    {
     "name": "stdout",
     "output_type": "stream",
     "text": [
      " the top 20 words making a positive review are : ['amazing', 'best', 'incredible', 'thank', 'awesome', 'phenomenal', 'perfection', 'heaven', 'delicious', 'perfect', 'highly', 'fantastic', 'excellent', 'great', 'favorite', 'impeccable', 'outstanding', 'love', 'holy', 'fabulous']\n"
     ]
    }
   ],
   "source": [
    "n_word = 20\n",
    "print(' the top 20 words suggesting highly rated restaurant are :', get_top_values(model_1og.coef_[0], n_word, words))"
   ]
  },
  {
   "cell_type": "markdown",
   "metadata": {},
   "source": [
    "#### *Look for the key features(words) that make the negative prediction?"
   ]
  },
  {
   "cell_type": "code",
   "execution_count": 169,
   "metadata": {},
   "outputs": [],
   "source": [
    "def get_bottom_values(lst, n, labels):\n",
    "    '''\n",
    "    INPUT: LIST, INTEGER, LIST\n",
    "    OUTPUT: LIST\n",
    "\n",
    "    Given a list of values, find the indices with the lowest n values.\n",
    "    Return the labels for each of these indices.\n",
    "\n",
    "    e.g.\n",
    "    lst = [7, 3, 2, 4, 1]\n",
    "    n = 2\n",
    "    labels = [\"cat\", \"dog\", \"mouse\", \"pig\", \"rabbit\"]\n",
    "    output: [\"mouse\", \"rabbit\"]\n",
    "    '''\n",
    "    return [labels[i] for i in np.argsort(lst)[:n]]"
   ]
  },
  {
   "cell_type": "code",
   "execution_count": 170,
   "metadata": {},
   "outputs": [
    {
     "name": "stdout",
     "output_type": "stream",
     "text": [
      " the top 20 words making a negetive review are : ['worst', 'horrible', 'disappointing', 'terrible', 'mediocre', 'ok', 'rude', 'bland', 'okay', 'lacked', 'slow', 'awful', 'poor', 'disgusting', 'worse', 'lacking', 'meh', 'overpriced', 'average', 'flavorless']\n"
     ]
    }
   ],
   "source": [
    "n_word = 20\n",
    "print(' the top 20 words suggesting poorly rated restaurant are :', get_bottom_values(model_1og.coef_[0], n_word, words))"
   ]
  },
  {
   "cell_type": "markdown",
   "metadata": {},
   "source": [
    "A: difficult,downside,grits,salty sounds negative, frech,greet,shame,plenty,red,kimchi\n"
   ]
  },
  {
   "cell_type": "markdown",
   "metadata": {},
   "source": [
    "#### Random Forest Classifier"
   ]
  },
  {
   "cell_type": "code",
   "execution_count": 177,
   "metadata": {},
   "outputs": [
    {
     "data": {
      "text/plain": [
       "OneVsRestClassifier(estimator=RandomForestClassifier(bootstrap=True, class_weight=None, criterion='gini',\n",
       "            max_depth=40, max_features='auto', max_leaf_nodes=None,\n",
       "            min_impurity_decrease=0.0, min_impurity_split=None,\n",
       "            min_samples_leaf=10, min_samples_split=2,\n",
       "            min_weight_fraction_leaf=0.0, n_estimators=50, n_jobs=1,\n",
       "            oob_score=False, random_state=1, verbose=0, warm_start=False),\n",
       "          n_jobs=-1)"
      ]
     },
     "execution_count": 177,
     "metadata": {},
     "output_type": "execute_result"
    }
   ],
   "source": [
    "# Build a Random Forest Classifier\n",
    "from sklearn.multiclass import OneVsRestClassifier\n",
    "from sklearn.ensemble import RandomForestClassifier\n",
    "estimator = RandomForestClassifier(n_estimators=50,max_depth=40,min_samples_leaf=10, random_state=1)# looks like increaing the depth increase\n",
    "model_rf= OneVsRestClassifier(estimator,n_jobs=-1)\n",
    "model_rf.fit(X_train,target_train)"
   ]
  },
  {
   "cell_type": "code",
   "execution_count": 178,
   "metadata": {},
   "outputs": [
    {
     "data": {
      "text/plain": [
       "0.8274585108932653"
      ]
     },
     "execution_count": 178,
     "metadata": {},
     "output_type": "execute_result"
    }
   ],
   "source": [
    "# Get score for training set\n",
    "model_rf.score(X_train, target_train)"
   ]
  },
  {
   "cell_type": "code",
   "execution_count": 179,
   "metadata": {},
   "outputs": [
    {
     "data": {
      "text/plain": [
       "0.8006765281557106"
      ]
     },
     "execution_count": 179,
     "metadata": {},
     "output_type": "execute_result"
    }
   ],
   "source": [
    "# Get score for test set\n",
    "model_rf.score(X_test, y_test)"
   ]
  },
  {
   "cell_type": "code",
   "execution_count": 180,
   "metadata": {},
   "outputs": [],
   "source": [
    "target_train_pred=model_rf.predict(X_train)\n",
    "target_test_pred=model_rf.predict(X_test)"
   ]
  },
  {
   "cell_type": "markdown",
   "metadata": {},
   "source": [
    "## Use cross validation to evaluate the classifiers\n",
    "\n",
    "[sklearn cross validation](http://scikit-learn.org/stable/modules/cross_validation.html)"
   ]
  },
  {
   "cell_type": "code",
   "execution_count": 16,
   "metadata": {},
   "outputs": [],
   "source": [
    "# To be implemented\n",
    "from sklearn.metrics import mean_squared_error, r2_score\n",
    "from sklearn.model_selection import cross_val_score\n",
    "\n",
    "train_mse_arr = np.array([])\n",
    "test_mse_arr = np.array([])\n",
    "\n",
    "#for i in pca_range:\n",
    "\n",
    "    #train_subset = vectors[:, :i]\n",
    "\n",
    "    #model_1.fit(train_subset, target_train)\n",
    "\n",
    "    # Get train error\n",
    "train_mse = cross_val_score(model_1, vectors, y=target_train,\n",
    "                                scoring='neg_mean_squared_error', cv=5) * -1\n",
    "train_mse_arr = np.append(train_mse_arr, train_mse.mean())\n",
    "    \n",
    "    # Get test error\n",
    "test_set = X_test\n",
    "test_mse = mean_squared_error(model_1.predict(test_set), y_test)\n",
    "test_mse_arr = np.append(test_mse_arr, test_mse)"
   ]
  },
  {
   "cell_type": "code",
   "execution_count": 27,
   "metadata": {},
   "outputs": [
    {
     "name": "stdout",
     "output_type": "stream",
     "text": [
      "[0.16763606 0.16858596 0.16770912 0.1702081  0.17110455] [0.16939801]\n"
     ]
    }
   ],
   "source": [
    "print(train_mse,test_mse_arr)"
   ]
  },
  {
   "cell_type": "markdown",
   "metadata": {},
   "source": [
    "##  Use grid search to find best predictable classifier\n",
    "\n",
    "\n",
    "[sklearn grid search tutorial (with cross validation)](http://scikit-learn.org/stable/modules/grid_search.html#grid-search)\n",
    "\n",
    "[sklearn grid search documentation (with cross validation)](http://scikit-learn.org/stable/modules/generated/sklearn.model_selection.GridSearchCV.html#sklearn.model_selection.GridSearchCV)"
   ]
  },
  {
   "cell_type": "code",
   "execution_count": 21,
   "metadata": {},
   "outputs": [
    {
     "data": {
      "text/plain": [
       "RandomForestClassifier(bootstrap=True, class_weight=None, criterion='gini',\n",
       "            max_depth=20, max_features='auto', max_leaf_nodes=None,\n",
       "            min_impurity_decrease=0.0, min_impurity_split=None,\n",
       "            min_samples_leaf=20, min_samples_split=2,\n",
       "            min_weight_fraction_leaf=0.0, n_estimators=50, n_jobs=-1,\n",
       "            oob_score=False, random_state=None, verbose=0,\n",
       "            warm_start=False)"
      ]
     },
     "execution_count": 21,
     "metadata": {},
     "output_type": "execute_result"
    }
   ],
   "source": [
    "# To be implemented\n",
    "from sklearn.metrics import make_scorer, roc_auc_score, accuracy_score\n",
    "from sklearn.model_selection import GridSearchCV\n",
    "\n",
    "# Choose the type of classifier. \n",
    "clf = RandomForestClassifier()\n",
    "\n",
    "# Choose some parameter combinations to try\n",
    "param_grid = {'n_estimators': [50], \n",
    "              'max_features': ['auto'], \n",
    "              'criterion': ['gini'],\n",
    "              'max_depth': [10,20], \n",
    "              'min_samples_split': [2],\n",
    "              'min_samples_leaf': [10,20],\n",
    "              'n_jobs':[-1]\n",
    "             }\n",
    "\n",
    "# Type of scoring used to compare parameter combinations\n",
    "acc_scorer = make_scorer(roc_auc_score)\n",
    "\n",
    "# Run the grid search\n",
    "# read theory\n",
    "grid_obj = GridSearchCV(clf, param_grid, cv=5, scoring=acc_scorer)\n",
    "grid_obj = grid_obj.fit(vectors, target_train)\n",
    "\n",
    "# Set the clf to the best combination of parameters\n",
    "clf = grid_obj.best_estimator_\n",
    "\n",
    "# Fit the best algorithm to the data. \n",
    "clf.fit(vectors, target_train)"
   ]
  }
 ],
 "metadata": {
  "anaconda-cloud": {},
  "kernelspec": {
   "display_name": "Python 3",
   "language": "python",
   "name": "python3"
  },
  "language_info": {
   "codemirror_mode": {
    "name": "ipython",
    "version": 3
   },
   "file_extension": ".py",
   "mimetype": "text/x-python",
   "name": "python",
   "nbconvert_exporter": "python",
   "pygments_lexer": "ipython3",
   "version": "3.6.5"
  }
 },
 "nbformat": 4,
 "nbformat_minor": 1
}
